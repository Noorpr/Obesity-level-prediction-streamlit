{
 "cells": [
  {
   "cell_type": "markdown",
   "id": "2b2a8979",
   "metadata": {
    "papermill": {
     "duration": 0.007579,
     "end_time": "2025-03-30T11:27:34.063912",
     "exception": false,
     "start_time": "2025-03-30T11:27:34.056333",
     "status": "completed"
    },
    "tags": []
   },
   "source": [
    "## First step: ***Reading the data***"
   ]
  },
  {
   "cell_type": "code",
   "execution_count": 31,
   "id": "072e1939",
   "metadata": {
    "_cell_guid": "b1076dfc-b9ad-4769-8c92-a6c4dae69d19",
    "_uuid": "8f2839f25d086af736a60e9eeb907d3b93b6e0e5",
    "execution": {
     "iopub.execute_input": "2025-03-30T11:27:34.080098Z",
     "iopub.status.busy": "2025-03-30T11:27:34.079673Z",
     "iopub.status.idle": "2025-03-30T11:27:35.057837Z",
     "shell.execute_reply": "2025-03-30T11:27:35.056206Z"
    },
    "papermill": {
     "duration": 0.988761,
     "end_time": "2025-03-30T11:27:35.059997",
     "exception": false,
     "start_time": "2025-03-30T11:27:34.071236",
     "status": "completed"
    },
    "tags": []
   },
   "outputs": [],
   "source": [
    "# This Python 3 environment comes with many helpful analytics libraries installed\n",
    "# It is defined by the kaggle/python Docker image: https://github.com/kaggle/docker-python\n",
    "# For example, here's several helpful packages to load\n",
    "\n",
    "import numpy as np # linear algebra\n",
    "import pandas as pd # data processing, CSV file I/O (e.g. pd.read_csv)\n",
    "\n",
    "# Input data files are available in the read-only \"../input/\" directory\n",
    "# For example, running this (by clicking run or pressing Shift+Enter) will list all files under the input directory\n",
    "\n",
    "import os\n",
    "for dirname, _, filenames in os.walk('/kaggle/input'):\n",
    "    for filename in filenames:\n",
    "        print(os.path.join(dirname, filename))\n",
    "\n",
    "# You can write up to 20GB to the current directory (/kaggle/working/) that gets preserved as output when you create a version using \"Save & Run All\" \n",
    "# You can also write temporary files to /kaggle/temp/, but they won't be saved outside of the current session"
   ]
  },
  {
   "cell_type": "code",
   "execution_count": 32,
   "id": "01c4b070",
   "metadata": {
    "execution": {
     "iopub.execute_input": "2025-03-30T11:27:35.077326Z",
     "iopub.status.busy": "2025-03-30T11:27:35.076700Z",
     "iopub.status.idle": "2025-03-30T11:27:35.138522Z",
     "shell.execute_reply": "2025-03-30T11:27:35.137375Z"
    },
    "papermill": {
     "duration": 0.072556,
     "end_time": "2025-03-30T11:27:35.140505",
     "exception": false,
     "start_time": "2025-03-30T11:27:35.067949",
     "status": "completed"
    },
    "tags": []
   },
   "outputs": [
    {
     "data": {
      "application/vnd.microsoft.datawrangler.viewer.v0+json": {
       "columns": [
        {
         "name": "index",
         "rawType": "int64",
         "type": "integer"
        },
        {
         "name": "Gender",
         "rawType": "object",
         "type": "string"
        },
        {
         "name": "Age",
         "rawType": "float64",
         "type": "float"
        },
        {
         "name": "Height",
         "rawType": "float64",
         "type": "float"
        },
        {
         "name": "Weight",
         "rawType": "float64",
         "type": "float"
        },
        {
         "name": "family_history",
         "rawType": "object",
         "type": "string"
        },
        {
         "name": "FAVC",
         "rawType": "object",
         "type": "string"
        },
        {
         "name": "FCVC",
         "rawType": "float64",
         "type": "float"
        },
        {
         "name": "NCP",
         "rawType": "float64",
         "type": "float"
        },
        {
         "name": "CAEC",
         "rawType": "object",
         "type": "string"
        },
        {
         "name": "SMOKE",
         "rawType": "object",
         "type": "string"
        },
        {
         "name": "CH2O",
         "rawType": "float64",
         "type": "float"
        },
        {
         "name": "SCC",
         "rawType": "object",
         "type": "string"
        },
        {
         "name": "FAF",
         "rawType": "float64",
         "type": "float"
        },
        {
         "name": "TUE",
         "rawType": "float64",
         "type": "float"
        },
        {
         "name": "CALC",
         "rawType": "object",
         "type": "string"
        },
        {
         "name": "MTRANS",
         "rawType": "object",
         "type": "string"
        },
        {
         "name": "Obesity",
         "rawType": "object",
         "type": "string"
        }
       ],
       "conversionMethod": "pd.DataFrame",
       "ref": "7a09987a-1b4f-464a-9fa4-865038cf4ff5",
       "rows": [
        [
         "0",
         "Female",
         "21.0",
         "1.62",
         "64.0",
         "yes",
         "no",
         "2.0",
         "3.0",
         "Sometimes",
         "no",
         "2.0",
         "no",
         "0.0",
         "1.0",
         "no",
         "Public_Transportation",
         "Normal_Weight"
        ],
        [
         "1",
         "Female",
         "21.0",
         "1.52",
         "56.0",
         "yes",
         "no",
         "3.0",
         "3.0",
         "Sometimes",
         "yes",
         "3.0",
         "yes",
         "3.0",
         "0.0",
         "Sometimes",
         "Public_Transportation",
         "Normal_Weight"
        ],
        [
         "2",
         "Male",
         "23.0",
         "1.8",
         "77.0",
         "yes",
         "no",
         "2.0",
         "3.0",
         "Sometimes",
         "no",
         "2.0",
         "no",
         "2.0",
         "1.0",
         "Frequently",
         "Public_Transportation",
         "Normal_Weight"
        ],
        [
         "3",
         "Male",
         "27.0",
         "1.8",
         "87.0",
         "no",
         "no",
         "3.0",
         "3.0",
         "Sometimes",
         "no",
         "2.0",
         "no",
         "2.0",
         "0.0",
         "Frequently",
         "Walking",
         "Overweight_Level_I"
        ],
        [
         "4",
         "Male",
         "22.0",
         "1.78",
         "89.8",
         "no",
         "no",
         "2.0",
         "1.0",
         "Sometimes",
         "no",
         "2.0",
         "no",
         "0.0",
         "0.0",
         "Sometimes",
         "Public_Transportation",
         "Overweight_Level_II"
        ]
       ],
       "shape": {
        "columns": 17,
        "rows": 5
       }
      },
      "text/html": [
       "<div>\n",
       "<style scoped>\n",
       "    .dataframe tbody tr th:only-of-type {\n",
       "        vertical-align: middle;\n",
       "    }\n",
       "\n",
       "    .dataframe tbody tr th {\n",
       "        vertical-align: top;\n",
       "    }\n",
       "\n",
       "    .dataframe thead th {\n",
       "        text-align: right;\n",
       "    }\n",
       "</style>\n",
       "<table border=\"1\" class=\"dataframe\">\n",
       "  <thead>\n",
       "    <tr style=\"text-align: right;\">\n",
       "      <th></th>\n",
       "      <th>Gender</th>\n",
       "      <th>Age</th>\n",
       "      <th>Height</th>\n",
       "      <th>Weight</th>\n",
       "      <th>family_history</th>\n",
       "      <th>FAVC</th>\n",
       "      <th>FCVC</th>\n",
       "      <th>NCP</th>\n",
       "      <th>CAEC</th>\n",
       "      <th>SMOKE</th>\n",
       "      <th>CH2O</th>\n",
       "      <th>SCC</th>\n",
       "      <th>FAF</th>\n",
       "      <th>TUE</th>\n",
       "      <th>CALC</th>\n",
       "      <th>MTRANS</th>\n",
       "      <th>Obesity</th>\n",
       "    </tr>\n",
       "  </thead>\n",
       "  <tbody>\n",
       "    <tr>\n",
       "      <th>0</th>\n",
       "      <td>Female</td>\n",
       "      <td>21.0</td>\n",
       "      <td>1.62</td>\n",
       "      <td>64.0</td>\n",
       "      <td>yes</td>\n",
       "      <td>no</td>\n",
       "      <td>2.0</td>\n",
       "      <td>3.0</td>\n",
       "      <td>Sometimes</td>\n",
       "      <td>no</td>\n",
       "      <td>2.0</td>\n",
       "      <td>no</td>\n",
       "      <td>0.0</td>\n",
       "      <td>1.0</td>\n",
       "      <td>no</td>\n",
       "      <td>Public_Transportation</td>\n",
       "      <td>Normal_Weight</td>\n",
       "    </tr>\n",
       "    <tr>\n",
       "      <th>1</th>\n",
       "      <td>Female</td>\n",
       "      <td>21.0</td>\n",
       "      <td>1.52</td>\n",
       "      <td>56.0</td>\n",
       "      <td>yes</td>\n",
       "      <td>no</td>\n",
       "      <td>3.0</td>\n",
       "      <td>3.0</td>\n",
       "      <td>Sometimes</td>\n",
       "      <td>yes</td>\n",
       "      <td>3.0</td>\n",
       "      <td>yes</td>\n",
       "      <td>3.0</td>\n",
       "      <td>0.0</td>\n",
       "      <td>Sometimes</td>\n",
       "      <td>Public_Transportation</td>\n",
       "      <td>Normal_Weight</td>\n",
       "    </tr>\n",
       "    <tr>\n",
       "      <th>2</th>\n",
       "      <td>Male</td>\n",
       "      <td>23.0</td>\n",
       "      <td>1.80</td>\n",
       "      <td>77.0</td>\n",
       "      <td>yes</td>\n",
       "      <td>no</td>\n",
       "      <td>2.0</td>\n",
       "      <td>3.0</td>\n",
       "      <td>Sometimes</td>\n",
       "      <td>no</td>\n",
       "      <td>2.0</td>\n",
       "      <td>no</td>\n",
       "      <td>2.0</td>\n",
       "      <td>1.0</td>\n",
       "      <td>Frequently</td>\n",
       "      <td>Public_Transportation</td>\n",
       "      <td>Normal_Weight</td>\n",
       "    </tr>\n",
       "    <tr>\n",
       "      <th>3</th>\n",
       "      <td>Male</td>\n",
       "      <td>27.0</td>\n",
       "      <td>1.80</td>\n",
       "      <td>87.0</td>\n",
       "      <td>no</td>\n",
       "      <td>no</td>\n",
       "      <td>3.0</td>\n",
       "      <td>3.0</td>\n",
       "      <td>Sometimes</td>\n",
       "      <td>no</td>\n",
       "      <td>2.0</td>\n",
       "      <td>no</td>\n",
       "      <td>2.0</td>\n",
       "      <td>0.0</td>\n",
       "      <td>Frequently</td>\n",
       "      <td>Walking</td>\n",
       "      <td>Overweight_Level_I</td>\n",
       "    </tr>\n",
       "    <tr>\n",
       "      <th>4</th>\n",
       "      <td>Male</td>\n",
       "      <td>22.0</td>\n",
       "      <td>1.78</td>\n",
       "      <td>89.8</td>\n",
       "      <td>no</td>\n",
       "      <td>no</td>\n",
       "      <td>2.0</td>\n",
       "      <td>1.0</td>\n",
       "      <td>Sometimes</td>\n",
       "      <td>no</td>\n",
       "      <td>2.0</td>\n",
       "      <td>no</td>\n",
       "      <td>0.0</td>\n",
       "      <td>0.0</td>\n",
       "      <td>Sometimes</td>\n",
       "      <td>Public_Transportation</td>\n",
       "      <td>Overweight_Level_II</td>\n",
       "    </tr>\n",
       "  </tbody>\n",
       "</table>\n",
       "</div>"
      ],
      "text/plain": [
       "   Gender   Age  Height  Weight family_history FAVC  FCVC  NCP       CAEC  \\\n",
       "0  Female  21.0    1.62    64.0            yes   no   2.0  3.0  Sometimes   \n",
       "1  Female  21.0    1.52    56.0            yes   no   3.0  3.0  Sometimes   \n",
       "2    Male  23.0    1.80    77.0            yes   no   2.0  3.0  Sometimes   \n",
       "3    Male  27.0    1.80    87.0             no   no   3.0  3.0  Sometimes   \n",
       "4    Male  22.0    1.78    89.8             no   no   2.0  1.0  Sometimes   \n",
       "\n",
       "  SMOKE  CH2O  SCC  FAF  TUE        CALC                 MTRANS  \\\n",
       "0    no   2.0   no  0.0  1.0          no  Public_Transportation   \n",
       "1   yes   3.0  yes  3.0  0.0   Sometimes  Public_Transportation   \n",
       "2    no   2.0   no  2.0  1.0  Frequently  Public_Transportation   \n",
       "3    no   2.0   no  2.0  0.0  Frequently                Walking   \n",
       "4    no   2.0   no  0.0  0.0   Sometimes  Public_Transportation   \n",
       "\n",
       "               Obesity  \n",
       "0        Normal_Weight  \n",
       "1        Normal_Weight  \n",
       "2        Normal_Weight  \n",
       "3   Overweight_Level_I  \n",
       "4  Overweight_Level_II  "
      ]
     },
     "execution_count": 32,
     "metadata": {},
     "output_type": "execute_result"
    }
   ],
   "source": [
    "df = pd.read_csv('https://raw.githubusercontent.com/Noorpr/myprojects/refs/heads/main/data/Obesity%20prediction.csv')\n",
    "df.head()"
   ]
  },
  {
   "cell_type": "markdown",
   "id": "85f5157e",
   "metadata": {
    "papermill": {
     "duration": 0.007161,
     "end_time": "2025-03-30T11:27:35.155326",
     "exception": false,
     "start_time": "2025-03-30T11:27:35.148165",
     "status": "completed"
    },
    "tags": []
   },
   "source": [
    "## Second Step: ***Describe the data***"
   ]
  },
  {
   "cell_type": "code",
   "execution_count": 33,
   "id": "07c29c25",
   "metadata": {
    "execution": {
     "iopub.execute_input": "2025-03-30T11:27:35.172146Z",
     "iopub.status.busy": "2025-03-30T11:27:35.171735Z",
     "iopub.status.idle": "2025-03-30T11:27:35.206231Z",
     "shell.execute_reply": "2025-03-30T11:27:35.205056Z"
    },
    "papermill": {
     "duration": 0.044933,
     "end_time": "2025-03-30T11:27:35.208255",
     "exception": false,
     "start_time": "2025-03-30T11:27:35.163322",
     "status": "completed"
    },
    "tags": []
   },
   "outputs": [
    {
     "data": {
      "application/vnd.microsoft.datawrangler.viewer.v0+json": {
       "columns": [
        {
         "name": "index",
         "rawType": "object",
         "type": "string"
        },
        {
         "name": "Age",
         "rawType": "float64",
         "type": "float"
        },
        {
         "name": "Height",
         "rawType": "float64",
         "type": "float"
        },
        {
         "name": "Weight",
         "rawType": "float64",
         "type": "float"
        },
        {
         "name": "FCVC",
         "rawType": "float64",
         "type": "float"
        },
        {
         "name": "NCP",
         "rawType": "float64",
         "type": "float"
        },
        {
         "name": "CH2O",
         "rawType": "float64",
         "type": "float"
        },
        {
         "name": "FAF",
         "rawType": "float64",
         "type": "float"
        },
        {
         "name": "TUE",
         "rawType": "float64",
         "type": "float"
        }
       ],
       "conversionMethod": "pd.DataFrame",
       "ref": "d8a835b0-9df6-43ab-a423-220c3bd06db2",
       "rows": [
        [
         "count",
         "2111.0",
         "2111.0",
         "2111.0",
         "2111.0",
         "2111.0",
         "2111.0",
         "2111.0",
         "2111.0"
        ],
        [
         "mean",
         "24.312599908574136",
         "1.7016773533870204",
         "86.58605812648035",
         "2.4190430615821885",
         "2.6856280497394596",
         "2.0080114040738986",
         "1.0102976958787304",
         "0.657865923732828"
        ],
        [
         "std",
         "6.345968273732234",
         "0.09330481986792007",
         "26.1911717452047",
         "0.5339265785033002",
         "0.7780386488418612",
         "0.6129534517968722",
         "0.850592430836698",
         "0.6089272596763782"
        ],
        [
         "min",
         "14.0",
         "1.45",
         "39.0",
         "1.0",
         "1.0",
         "1.0",
         "0.0",
         "0.0"
        ],
        [
         "25%",
         "19.947192",
         "1.63",
         "65.473343",
         "2.0",
         "2.658738",
         "1.5848125",
         "0.124505",
         "0.0"
        ],
        [
         "50%",
         "22.77789",
         "1.700499",
         "83.0",
         "2.385502",
         "3.0",
         "2.0",
         "1.0",
         "0.62535"
        ],
        [
         "75%",
         "26.0",
         "1.768464",
         "107.430682",
         "3.0",
         "3.0",
         "2.47742",
         "1.6666775",
         "1.0"
        ],
        [
         "max",
         "61.0",
         "1.98",
         "173.0",
         "3.0",
         "4.0",
         "3.0",
         "3.0",
         "2.0"
        ]
       ],
       "shape": {
        "columns": 8,
        "rows": 8
       }
      },
      "text/html": [
       "<div>\n",
       "<style scoped>\n",
       "    .dataframe tbody tr th:only-of-type {\n",
       "        vertical-align: middle;\n",
       "    }\n",
       "\n",
       "    .dataframe tbody tr th {\n",
       "        vertical-align: top;\n",
       "    }\n",
       "\n",
       "    .dataframe thead th {\n",
       "        text-align: right;\n",
       "    }\n",
       "</style>\n",
       "<table border=\"1\" class=\"dataframe\">\n",
       "  <thead>\n",
       "    <tr style=\"text-align: right;\">\n",
       "      <th></th>\n",
       "      <th>Age</th>\n",
       "      <th>Height</th>\n",
       "      <th>Weight</th>\n",
       "      <th>FCVC</th>\n",
       "      <th>NCP</th>\n",
       "      <th>CH2O</th>\n",
       "      <th>FAF</th>\n",
       "      <th>TUE</th>\n",
       "    </tr>\n",
       "  </thead>\n",
       "  <tbody>\n",
       "    <tr>\n",
       "      <th>count</th>\n",
       "      <td>2111.000000</td>\n",
       "      <td>2111.000000</td>\n",
       "      <td>2111.000000</td>\n",
       "      <td>2111.000000</td>\n",
       "      <td>2111.000000</td>\n",
       "      <td>2111.000000</td>\n",
       "      <td>2111.000000</td>\n",
       "      <td>2111.000000</td>\n",
       "    </tr>\n",
       "    <tr>\n",
       "      <th>mean</th>\n",
       "      <td>24.312600</td>\n",
       "      <td>1.701677</td>\n",
       "      <td>86.586058</td>\n",
       "      <td>2.419043</td>\n",
       "      <td>2.685628</td>\n",
       "      <td>2.008011</td>\n",
       "      <td>1.010298</td>\n",
       "      <td>0.657866</td>\n",
       "    </tr>\n",
       "    <tr>\n",
       "      <th>std</th>\n",
       "      <td>6.345968</td>\n",
       "      <td>0.093305</td>\n",
       "      <td>26.191172</td>\n",
       "      <td>0.533927</td>\n",
       "      <td>0.778039</td>\n",
       "      <td>0.612953</td>\n",
       "      <td>0.850592</td>\n",
       "      <td>0.608927</td>\n",
       "    </tr>\n",
       "    <tr>\n",
       "      <th>min</th>\n",
       "      <td>14.000000</td>\n",
       "      <td>1.450000</td>\n",
       "      <td>39.000000</td>\n",
       "      <td>1.000000</td>\n",
       "      <td>1.000000</td>\n",
       "      <td>1.000000</td>\n",
       "      <td>0.000000</td>\n",
       "      <td>0.000000</td>\n",
       "    </tr>\n",
       "    <tr>\n",
       "      <th>25%</th>\n",
       "      <td>19.947192</td>\n",
       "      <td>1.630000</td>\n",
       "      <td>65.473343</td>\n",
       "      <td>2.000000</td>\n",
       "      <td>2.658738</td>\n",
       "      <td>1.584812</td>\n",
       "      <td>0.124505</td>\n",
       "      <td>0.000000</td>\n",
       "    </tr>\n",
       "    <tr>\n",
       "      <th>50%</th>\n",
       "      <td>22.777890</td>\n",
       "      <td>1.700499</td>\n",
       "      <td>83.000000</td>\n",
       "      <td>2.385502</td>\n",
       "      <td>3.000000</td>\n",
       "      <td>2.000000</td>\n",
       "      <td>1.000000</td>\n",
       "      <td>0.625350</td>\n",
       "    </tr>\n",
       "    <tr>\n",
       "      <th>75%</th>\n",
       "      <td>26.000000</td>\n",
       "      <td>1.768464</td>\n",
       "      <td>107.430682</td>\n",
       "      <td>3.000000</td>\n",
       "      <td>3.000000</td>\n",
       "      <td>2.477420</td>\n",
       "      <td>1.666678</td>\n",
       "      <td>1.000000</td>\n",
       "    </tr>\n",
       "    <tr>\n",
       "      <th>max</th>\n",
       "      <td>61.000000</td>\n",
       "      <td>1.980000</td>\n",
       "      <td>173.000000</td>\n",
       "      <td>3.000000</td>\n",
       "      <td>4.000000</td>\n",
       "      <td>3.000000</td>\n",
       "      <td>3.000000</td>\n",
       "      <td>2.000000</td>\n",
       "    </tr>\n",
       "  </tbody>\n",
       "</table>\n",
       "</div>"
      ],
      "text/plain": [
       "               Age       Height       Weight         FCVC          NCP  \\\n",
       "count  2111.000000  2111.000000  2111.000000  2111.000000  2111.000000   \n",
       "mean     24.312600     1.701677    86.586058     2.419043     2.685628   \n",
       "std       6.345968     0.093305    26.191172     0.533927     0.778039   \n",
       "min      14.000000     1.450000    39.000000     1.000000     1.000000   \n",
       "25%      19.947192     1.630000    65.473343     2.000000     2.658738   \n",
       "50%      22.777890     1.700499    83.000000     2.385502     3.000000   \n",
       "75%      26.000000     1.768464   107.430682     3.000000     3.000000   \n",
       "max      61.000000     1.980000   173.000000     3.000000     4.000000   \n",
       "\n",
       "              CH2O          FAF          TUE  \n",
       "count  2111.000000  2111.000000  2111.000000  \n",
       "mean      2.008011     1.010298     0.657866  \n",
       "std       0.612953     0.850592     0.608927  \n",
       "min       1.000000     0.000000     0.000000  \n",
       "25%       1.584812     0.124505     0.000000  \n",
       "50%       2.000000     1.000000     0.625350  \n",
       "75%       2.477420     1.666678     1.000000  \n",
       "max       3.000000     3.000000     2.000000  "
      ]
     },
     "execution_count": 33,
     "metadata": {},
     "output_type": "execute_result"
    }
   ],
   "source": [
    "df.describe()"
   ]
  },
  {
   "cell_type": "code",
   "execution_count": 34,
   "id": "71bcfcdb",
   "metadata": {
    "execution": {
     "iopub.execute_input": "2025-03-30T11:27:35.225415Z",
     "iopub.status.busy": "2025-03-30T11:27:35.225005Z",
     "iopub.status.idle": "2025-03-30T11:27:35.256111Z",
     "shell.execute_reply": "2025-03-30T11:27:35.255104Z"
    },
    "papermill": {
     "duration": 0.041753,
     "end_time": "2025-03-30T11:27:35.257757",
     "exception": false,
     "start_time": "2025-03-30T11:27:35.216004",
     "status": "completed"
    },
    "tags": []
   },
   "outputs": [
    {
     "data": {
      "application/vnd.microsoft.datawrangler.viewer.v0+json": {
       "columns": [
        {
         "name": "index",
         "rawType": "object",
         "type": "string"
        },
        {
         "name": "Gender",
         "rawType": "object",
         "type": "unknown"
        },
        {
         "name": "family_history",
         "rawType": "object",
         "type": "unknown"
        },
        {
         "name": "FAVC",
         "rawType": "object",
         "type": "unknown"
        },
        {
         "name": "CAEC",
         "rawType": "object",
         "type": "unknown"
        },
        {
         "name": "SMOKE",
         "rawType": "object",
         "type": "unknown"
        },
        {
         "name": "SCC",
         "rawType": "object",
         "type": "unknown"
        },
        {
         "name": "CALC",
         "rawType": "object",
         "type": "unknown"
        },
        {
         "name": "MTRANS",
         "rawType": "object",
         "type": "unknown"
        },
        {
         "name": "Obesity",
         "rawType": "object",
         "type": "unknown"
        }
       ],
       "conversionMethod": "pd.DataFrame",
       "ref": "5d86ac4c-72c8-48fd-a0c3-3e569049fc43",
       "rows": [
        [
         "count",
         "2111",
         "2111",
         "2111",
         "2111",
         "2111",
         "2111",
         "2111",
         "2111",
         "2111"
        ],
        [
         "unique",
         "2",
         "2",
         "2",
         "4",
         "2",
         "2",
         "4",
         "5",
         "7"
        ],
        [
         "top",
         "Male",
         "yes",
         "yes",
         "Sometimes",
         "no",
         "no",
         "Sometimes",
         "Public_Transportation",
         "Obesity_Type_I"
        ],
        [
         "freq",
         "1068",
         "1726",
         "1866",
         "1765",
         "2067",
         "2015",
         "1401",
         "1580",
         "351"
        ]
       ],
       "shape": {
        "columns": 9,
        "rows": 4
       }
      },
      "text/html": [
       "<div>\n",
       "<style scoped>\n",
       "    .dataframe tbody tr th:only-of-type {\n",
       "        vertical-align: middle;\n",
       "    }\n",
       "\n",
       "    .dataframe tbody tr th {\n",
       "        vertical-align: top;\n",
       "    }\n",
       "\n",
       "    .dataframe thead th {\n",
       "        text-align: right;\n",
       "    }\n",
       "</style>\n",
       "<table border=\"1\" class=\"dataframe\">\n",
       "  <thead>\n",
       "    <tr style=\"text-align: right;\">\n",
       "      <th></th>\n",
       "      <th>Gender</th>\n",
       "      <th>family_history</th>\n",
       "      <th>FAVC</th>\n",
       "      <th>CAEC</th>\n",
       "      <th>SMOKE</th>\n",
       "      <th>SCC</th>\n",
       "      <th>CALC</th>\n",
       "      <th>MTRANS</th>\n",
       "      <th>Obesity</th>\n",
       "    </tr>\n",
       "  </thead>\n",
       "  <tbody>\n",
       "    <tr>\n",
       "      <th>count</th>\n",
       "      <td>2111</td>\n",
       "      <td>2111</td>\n",
       "      <td>2111</td>\n",
       "      <td>2111</td>\n",
       "      <td>2111</td>\n",
       "      <td>2111</td>\n",
       "      <td>2111</td>\n",
       "      <td>2111</td>\n",
       "      <td>2111</td>\n",
       "    </tr>\n",
       "    <tr>\n",
       "      <th>unique</th>\n",
       "      <td>2</td>\n",
       "      <td>2</td>\n",
       "      <td>2</td>\n",
       "      <td>4</td>\n",
       "      <td>2</td>\n",
       "      <td>2</td>\n",
       "      <td>4</td>\n",
       "      <td>5</td>\n",
       "      <td>7</td>\n",
       "    </tr>\n",
       "    <tr>\n",
       "      <th>top</th>\n",
       "      <td>Male</td>\n",
       "      <td>yes</td>\n",
       "      <td>yes</td>\n",
       "      <td>Sometimes</td>\n",
       "      <td>no</td>\n",
       "      <td>no</td>\n",
       "      <td>Sometimes</td>\n",
       "      <td>Public_Transportation</td>\n",
       "      <td>Obesity_Type_I</td>\n",
       "    </tr>\n",
       "    <tr>\n",
       "      <th>freq</th>\n",
       "      <td>1068</td>\n",
       "      <td>1726</td>\n",
       "      <td>1866</td>\n",
       "      <td>1765</td>\n",
       "      <td>2067</td>\n",
       "      <td>2015</td>\n",
       "      <td>1401</td>\n",
       "      <td>1580</td>\n",
       "      <td>351</td>\n",
       "    </tr>\n",
       "  </tbody>\n",
       "</table>\n",
       "</div>"
      ],
      "text/plain": [
       "       Gender family_history  FAVC       CAEC SMOKE   SCC       CALC  \\\n",
       "count    2111           2111  2111       2111  2111  2111       2111   \n",
       "unique      2              2     2          4     2     2          4   \n",
       "top      Male            yes   yes  Sometimes    no    no  Sometimes   \n",
       "freq     1068           1726  1866       1765  2067  2015       1401   \n",
       "\n",
       "                       MTRANS         Obesity  \n",
       "count                    2111            2111  \n",
       "unique                      5               7  \n",
       "top     Public_Transportation  Obesity_Type_I  \n",
       "freq                     1580             351  "
      ]
     },
     "execution_count": 34,
     "metadata": {},
     "output_type": "execute_result"
    }
   ],
   "source": [
    "df.describe(include=['O'])"
   ]
  },
  {
   "cell_type": "code",
   "execution_count": 35,
   "id": "1a22e02c",
   "metadata": {
    "execution": {
     "iopub.execute_input": "2025-03-30T11:27:35.276911Z",
     "iopub.status.busy": "2025-03-30T11:27:35.276526Z",
     "iopub.status.idle": "2025-03-30T11:27:35.299786Z",
     "shell.execute_reply": "2025-03-30T11:27:35.298510Z"
    },
    "papermill": {
     "duration": 0.034988,
     "end_time": "2025-03-30T11:27:35.301691",
     "exception": false,
     "start_time": "2025-03-30T11:27:35.266703",
     "status": "completed"
    },
    "tags": []
   },
   "outputs": [
    {
     "name": "stdout",
     "output_type": "stream",
     "text": [
      "<class 'pandas.core.frame.DataFrame'>\n",
      "RangeIndex: 2111 entries, 0 to 2110\n",
      "Data columns (total 17 columns):\n",
      " #   Column          Non-Null Count  Dtype  \n",
      "---  ------          --------------  -----  \n",
      " 0   Gender          2111 non-null   object \n",
      " 1   Age             2111 non-null   float64\n",
      " 2   Height          2111 non-null   float64\n",
      " 3   Weight          2111 non-null   float64\n",
      " 4   family_history  2111 non-null   object \n",
      " 5   FAVC            2111 non-null   object \n",
      " 6   FCVC            2111 non-null   float64\n",
      " 7   NCP             2111 non-null   float64\n",
      " 8   CAEC            2111 non-null   object \n",
      " 9   SMOKE           2111 non-null   object \n",
      " 10  CH2O            2111 non-null   float64\n",
      " 11  SCC             2111 non-null   object \n",
      " 12  FAF             2111 non-null   float64\n",
      " 13  TUE             2111 non-null   float64\n",
      " 14  CALC            2111 non-null   object \n",
      " 15  MTRANS          2111 non-null   object \n",
      " 16  Obesity         2111 non-null   object \n",
      "dtypes: float64(8), object(9)\n",
      "memory usage: 280.5+ KB\n"
     ]
    }
   ],
   "source": [
    "df.info()"
   ]
  },
  {
   "cell_type": "code",
   "execution_count": 36,
   "id": "669e6628",
   "metadata": {
    "execution": {
     "iopub.execute_input": "2025-03-30T11:27:35.319098Z",
     "iopub.status.busy": "2025-03-30T11:27:35.318700Z",
     "iopub.status.idle": "2025-03-30T11:27:35.327632Z",
     "shell.execute_reply": "2025-03-30T11:27:35.326611Z"
    },
    "papermill": {
     "duration": 0.01936,
     "end_time": "2025-03-30T11:27:35.329295",
     "exception": false,
     "start_time": "2025-03-30T11:27:35.309935",
     "status": "completed"
    },
    "tags": []
   },
   "outputs": [
    {
     "data": {
      "text/plain": [
       "Gender            0\n",
       "Age               0\n",
       "Height            0\n",
       "Weight            0\n",
       "family_history    0\n",
       "FAVC              0\n",
       "FCVC              0\n",
       "NCP               0\n",
       "CAEC              0\n",
       "SMOKE             0\n",
       "CH2O              0\n",
       "SCC               0\n",
       "FAF               0\n",
       "TUE               0\n",
       "CALC              0\n",
       "MTRANS            0\n",
       "Obesity           0\n",
       "dtype: int64"
      ]
     },
     "execution_count": 36,
     "metadata": {},
     "output_type": "execute_result"
    }
   ],
   "source": [
    "df.isnull().sum()"
   ]
  },
  {
   "cell_type": "code",
   "execution_count": 37,
   "id": "fd9b0c61",
   "metadata": {
    "execution": {
     "iopub.execute_input": "2025-03-30T11:27:35.347259Z",
     "iopub.status.busy": "2025-03-30T11:27:35.346830Z",
     "iopub.status.idle": "2025-03-30T11:27:35.357248Z",
     "shell.execute_reply": "2025-03-30T11:27:35.355968Z"
    },
    "papermill": {
     "duration": 0.021493,
     "end_time": "2025-03-30T11:27:35.358958",
     "exception": false,
     "start_time": "2025-03-30T11:27:35.337465",
     "status": "completed"
    },
    "tags": []
   },
   "outputs": [
    {
     "name": "stdout",
     "output_type": "stream",
     "text": [
      "column name : Gender\n",
      "column values : ['Female' 'Male']\n",
      "\n",
      "column name : family_history\n",
      "column values : ['yes' 'no']\n",
      "\n",
      "column name : FAVC\n",
      "column values : ['no' 'yes']\n",
      "\n",
      "column name : CAEC\n",
      "column values : ['Sometimes' 'Frequently' 'Always' 'no']\n",
      "\n",
      "column name : SMOKE\n",
      "column values : ['no' 'yes']\n",
      "\n",
      "column name : SCC\n",
      "column values : ['no' 'yes']\n",
      "\n",
      "column name : CALC\n",
      "column values : ['no' 'Sometimes' 'Frequently' 'Always']\n",
      "\n",
      "column name : MTRANS\n",
      "column values : ['Public_Transportation' 'Walking' 'Automobile' 'Motorbike' 'Bike']\n",
      "\n",
      "column name : Obesity\n",
      "column values : ['Normal_Weight' 'Overweight_Level_I' 'Overweight_Level_II'\n",
      " 'Obesity_Type_I' 'Insufficient_Weight' 'Obesity_Type_II'\n",
      " 'Obesity_Type_III']\n",
      "\n"
     ]
    }
   ],
   "source": [
    "for column in df.select_dtypes(include=['O']).columns:\n",
    "    print(f'column name : {column}\\ncolumn values : {df[column].unique()}\\n')"
   ]
  },
  {
   "cell_type": "markdown",
   "id": "8c29e56e",
   "metadata": {
    "papermill": {
     "duration": 0.007796,
     "end_time": "2025-03-30T11:27:35.375206",
     "exception": false,
     "start_time": "2025-03-30T11:27:35.367410",
     "status": "completed"
    },
    "tags": []
   },
   "source": [
    "## Third Step: ***Cleaning the data***"
   ]
  },
  {
   "cell_type": "code",
   "execution_count": 38,
   "id": "6f9a800e",
   "metadata": {
    "execution": {
     "iopub.execute_input": "2025-03-30T11:27:35.392827Z",
     "iopub.status.busy": "2025-03-30T11:27:35.392493Z",
     "iopub.status.idle": "2025-03-30T11:27:35.405262Z",
     "shell.execute_reply": "2025-03-30T11:27:35.403914Z"
    },
    "papermill": {
     "duration": 0.02389,
     "end_time": "2025-03-30T11:27:35.407400",
     "exception": false,
     "start_time": "2025-03-30T11:27:35.383510",
     "status": "completed"
    },
    "tags": []
   },
   "outputs": [
    {
     "name": "stdout",
     "output_type": "stream",
     "text": [
      "24\n"
     ]
    }
   ],
   "source": [
    "duplicated = df[df.duplicated(keep='first')]\n",
    "print(len(duplicated))"
   ]
  },
  {
   "cell_type": "code",
   "execution_count": 39,
   "id": "6b7519a1",
   "metadata": {
    "execution": {
     "iopub.execute_input": "2025-03-30T11:27:35.426333Z",
     "iopub.status.busy": "2025-03-30T11:27:35.425942Z",
     "iopub.status.idle": "2025-03-30T11:27:35.444672Z",
     "shell.execute_reply": "2025-03-30T11:27:35.443507Z"
    },
    "papermill": {
     "duration": 0.030515,
     "end_time": "2025-03-30T11:27:35.446582",
     "exception": false,
     "start_time": "2025-03-30T11:27:35.416067",
     "status": "completed"
    },
    "tags": []
   },
   "outputs": [
    {
     "data": {
      "application/vnd.microsoft.datawrangler.viewer.v0+json": {
       "columns": [
        {
         "name": "index",
         "rawType": "int64",
         "type": "integer"
        },
        {
         "name": "Gender",
         "rawType": "object",
         "type": "string"
        },
        {
         "name": "Age",
         "rawType": "float64",
         "type": "float"
        },
        {
         "name": "Height",
         "rawType": "float64",
         "type": "float"
        },
        {
         "name": "Weight",
         "rawType": "float64",
         "type": "float"
        },
        {
         "name": "family_history",
         "rawType": "object",
         "type": "string"
        },
        {
         "name": "FAVC",
         "rawType": "object",
         "type": "string"
        },
        {
         "name": "FCVC",
         "rawType": "float64",
         "type": "float"
        },
        {
         "name": "NCP",
         "rawType": "float64",
         "type": "float"
        },
        {
         "name": "CAEC",
         "rawType": "object",
         "type": "string"
        },
        {
         "name": "SMOKE",
         "rawType": "object",
         "type": "string"
        },
        {
         "name": "CH2O",
         "rawType": "float64",
         "type": "float"
        },
        {
         "name": "SCC",
         "rawType": "object",
         "type": "string"
        },
        {
         "name": "FAF",
         "rawType": "float64",
         "type": "float"
        },
        {
         "name": "TUE",
         "rawType": "float64",
         "type": "float"
        },
        {
         "name": "CALC",
         "rawType": "object",
         "type": "string"
        },
        {
         "name": "MTRANS",
         "rawType": "object",
         "type": "string"
        },
        {
         "name": "Obesity",
         "rawType": "object",
         "type": "string"
        }
       ],
       "conversionMethod": "pd.DataFrame",
       "ref": "4505e57f-d43a-4501-b609-3b5b7b868122",
       "rows": [],
       "shape": {
        "columns": 17,
        "rows": 0
       }
      },
      "text/html": [
       "<div>\n",
       "<style scoped>\n",
       "    .dataframe tbody tr th:only-of-type {\n",
       "        vertical-align: middle;\n",
       "    }\n",
       "\n",
       "    .dataframe tbody tr th {\n",
       "        vertical-align: top;\n",
       "    }\n",
       "\n",
       "    .dataframe thead th {\n",
       "        text-align: right;\n",
       "    }\n",
       "</style>\n",
       "<table border=\"1\" class=\"dataframe\">\n",
       "  <thead>\n",
       "    <tr style=\"text-align: right;\">\n",
       "      <th></th>\n",
       "      <th>Gender</th>\n",
       "      <th>Age</th>\n",
       "      <th>Height</th>\n",
       "      <th>Weight</th>\n",
       "      <th>family_history</th>\n",
       "      <th>FAVC</th>\n",
       "      <th>FCVC</th>\n",
       "      <th>NCP</th>\n",
       "      <th>CAEC</th>\n",
       "      <th>SMOKE</th>\n",
       "      <th>CH2O</th>\n",
       "      <th>SCC</th>\n",
       "      <th>FAF</th>\n",
       "      <th>TUE</th>\n",
       "      <th>CALC</th>\n",
       "      <th>MTRANS</th>\n",
       "      <th>Obesity</th>\n",
       "    </tr>\n",
       "  </thead>\n",
       "  <tbody>\n",
       "  </tbody>\n",
       "</table>\n",
       "</div>"
      ],
      "text/plain": [
       "Empty DataFrame\n",
       "Columns: [Gender, Age, Height, Weight, family_history, FAVC, FCVC, NCP, CAEC, SMOKE, CH2O, SCC, FAF, TUE, CALC, MTRANS, Obesity]\n",
       "Index: []"
      ]
     },
     "execution_count": 39,
     "metadata": {},
     "output_type": "execute_result"
    }
   ],
   "source": [
    "df = df.drop_duplicates()\n",
    "df[df.duplicated(keep='first')]"
   ]
  },
  {
   "cell_type": "code",
   "execution_count": 40,
   "id": "76823a00",
   "metadata": {
    "execution": {
     "iopub.execute_input": "2025-03-30T11:27:35.464694Z",
     "iopub.status.busy": "2025-03-30T11:27:35.464367Z",
     "iopub.status.idle": "2025-03-30T11:27:35.479194Z",
     "shell.execute_reply": "2025-03-30T11:27:35.477888Z"
    },
    "papermill": {
     "duration": 0.026092,
     "end_time": "2025-03-30T11:27:35.481113",
     "exception": false,
     "start_time": "2025-03-30T11:27:35.455021",
     "status": "completed"
    },
    "tags": []
   },
   "outputs": [
    {
     "data": {
      "application/vnd.microsoft.datawrangler.viewer.v0+json": {
       "columns": [
        {
         "name": "index",
         "rawType": "int64",
         "type": "integer"
        },
        {
         "name": "target",
         "rawType": "int64",
         "type": "integer"
        },
        {
         "name": "Obesity",
         "rawType": "object",
         "type": "string"
        }
       ],
       "conversionMethod": "pd.DataFrame",
       "ref": "a5fdcacd-cbf0-4757-ad64-6f283a1f97b4",
       "rows": [
        [
         "0",
         "1",
         "Normal_Weight"
        ],
        [
         "1",
         "1",
         "Normal_Weight"
        ],
        [
         "2",
         "1",
         "Normal_Weight"
        ],
        [
         "3",
         "2",
         "Overweight_Level_I"
        ],
        [
         "4",
         "3",
         "Overweight_Level_II"
        ],
        [
         "5",
         "1",
         "Normal_Weight"
        ],
        [
         "6",
         "1",
         "Normal_Weight"
        ],
        [
         "7",
         "1",
         "Normal_Weight"
        ],
        [
         "8",
         "1",
         "Normal_Weight"
        ],
        [
         "9",
         "1",
         "Normal_Weight"
        ],
        [
         "10",
         "4",
         "Obesity_Type_I"
        ],
        [
         "11",
         "3",
         "Overweight_Level_II"
        ],
        [
         "12",
         "1",
         "Normal_Weight"
        ],
        [
         "13",
         "4",
         "Obesity_Type_I"
        ],
        [
         "14",
         "1",
         "Normal_Weight"
        ],
        [
         "15",
         "1",
         "Normal_Weight"
        ],
        [
         "16",
         "3",
         "Overweight_Level_II"
        ],
        [
         "17",
         "4",
         "Obesity_Type_I"
        ],
        [
         "18",
         "3",
         "Overweight_Level_II"
        ],
        [
         "19",
         "2",
         "Overweight_Level_I"
        ],
        [
         "20",
         "3",
         "Overweight_Level_II"
        ],
        [
         "21",
         "4",
         "Obesity_Type_I"
        ],
        [
         "22",
         "1",
         "Normal_Weight"
        ],
        [
         "23",
         "4",
         "Obesity_Type_I"
        ],
        [
         "24",
         "1",
         "Normal_Weight"
        ],
        [
         "25",
         "1",
         "Normal_Weight"
        ],
        [
         "26",
         "1",
         "Normal_Weight"
        ],
        [
         "27",
         "1",
         "Normal_Weight"
        ],
        [
         "28",
         "1",
         "Normal_Weight"
        ],
        [
         "29",
         "1",
         "Normal_Weight"
        ],
        [
         "30",
         "2",
         "Overweight_Level_I"
        ],
        [
         "31",
         "3",
         "Overweight_Level_II"
        ],
        [
         "32",
         "1",
         "Normal_Weight"
        ],
        [
         "33",
         "3",
         "Overweight_Level_II"
        ],
        [
         "34",
         "1",
         "Normal_Weight"
        ],
        [
         "35",
         "3",
         "Overweight_Level_II"
        ],
        [
         "36",
         "1",
         "Normal_Weight"
        ],
        [
         "37",
         "1",
         "Normal_Weight"
        ],
        [
         "38",
         "1",
         "Normal_Weight"
        ],
        [
         "39",
         "3",
         "Overweight_Level_II"
        ],
        [
         "40",
         "2",
         "Overweight_Level_I"
        ],
        [
         "41",
         "1",
         "Normal_Weight"
        ],
        [
         "42",
         "1",
         "Normal_Weight"
        ],
        [
         "43",
         "1",
         "Normal_Weight"
        ],
        [
         "44",
         "1",
         "Normal_Weight"
        ],
        [
         "45",
         "3",
         "Overweight_Level_II"
        ],
        [
         "46",
         "1",
         "Normal_Weight"
        ],
        [
         "47",
         "1",
         "Normal_Weight"
        ],
        [
         "48",
         "1",
         "Normal_Weight"
        ],
        [
         "49",
         "1",
         "Normal_Weight"
        ]
       ],
       "shape": {
        "columns": 2,
        "rows": 2087
       }
      },
      "text/html": [
       "<div>\n",
       "<style scoped>\n",
       "    .dataframe tbody tr th:only-of-type {\n",
       "        vertical-align: middle;\n",
       "    }\n",
       "\n",
       "    .dataframe tbody tr th {\n",
       "        vertical-align: top;\n",
       "    }\n",
       "\n",
       "    .dataframe thead th {\n",
       "        text-align: right;\n",
       "    }\n",
       "</style>\n",
       "<table border=\"1\" class=\"dataframe\">\n",
       "  <thead>\n",
       "    <tr style=\"text-align: right;\">\n",
       "      <th></th>\n",
       "      <th>target</th>\n",
       "      <th>Obesity</th>\n",
       "    </tr>\n",
       "  </thead>\n",
       "  <tbody>\n",
       "    <tr>\n",
       "      <th>0</th>\n",
       "      <td>1</td>\n",
       "      <td>Normal_Weight</td>\n",
       "    </tr>\n",
       "    <tr>\n",
       "      <th>1</th>\n",
       "      <td>1</td>\n",
       "      <td>Normal_Weight</td>\n",
       "    </tr>\n",
       "    <tr>\n",
       "      <th>2</th>\n",
       "      <td>1</td>\n",
       "      <td>Normal_Weight</td>\n",
       "    </tr>\n",
       "    <tr>\n",
       "      <th>3</th>\n",
       "      <td>2</td>\n",
       "      <td>Overweight_Level_I</td>\n",
       "    </tr>\n",
       "    <tr>\n",
       "      <th>4</th>\n",
       "      <td>3</td>\n",
       "      <td>Overweight_Level_II</td>\n",
       "    </tr>\n",
       "    <tr>\n",
       "      <th>...</th>\n",
       "      <td>...</td>\n",
       "      <td>...</td>\n",
       "    </tr>\n",
       "    <tr>\n",
       "      <th>2106</th>\n",
       "      <td>6</td>\n",
       "      <td>Obesity_Type_III</td>\n",
       "    </tr>\n",
       "    <tr>\n",
       "      <th>2107</th>\n",
       "      <td>6</td>\n",
       "      <td>Obesity_Type_III</td>\n",
       "    </tr>\n",
       "    <tr>\n",
       "      <th>2108</th>\n",
       "      <td>6</td>\n",
       "      <td>Obesity_Type_III</td>\n",
       "    </tr>\n",
       "    <tr>\n",
       "      <th>2109</th>\n",
       "      <td>6</td>\n",
       "      <td>Obesity_Type_III</td>\n",
       "    </tr>\n",
       "    <tr>\n",
       "      <th>2110</th>\n",
       "      <td>6</td>\n",
       "      <td>Obesity_Type_III</td>\n",
       "    </tr>\n",
       "  </tbody>\n",
       "</table>\n",
       "<p>2087 rows × 2 columns</p>\n",
       "</div>"
      ],
      "text/plain": [
       "      target              Obesity\n",
       "0          1        Normal_Weight\n",
       "1          1        Normal_Weight\n",
       "2          1        Normal_Weight\n",
       "3          2   Overweight_Level_I\n",
       "4          3  Overweight_Level_II\n",
       "...      ...                  ...\n",
       "2106       6     Obesity_Type_III\n",
       "2107       6     Obesity_Type_III\n",
       "2108       6     Obesity_Type_III\n",
       "2109       6     Obesity_Type_III\n",
       "2110       6     Obesity_Type_III\n",
       "\n",
       "[2087 rows x 2 columns]"
      ]
     },
     "execution_count": 40,
     "metadata": {},
     "output_type": "execute_result"
    }
   ],
   "source": [
    "new_target = {'Normal_Weight' : 1, 'Overweight_Level_I' : 2, 'Overweight_Level_II' : 3, 'Obesity_Type_I' : 4, 'Insufficient_Weight' : 0, 'Obesity_Type_II' : 5, 'Obesity_Type_III' : 6}\n",
    "\n",
    "df['target'] = df['Obesity'].map(new_target)\n",
    "df[['target','Obesity']]"
   ]
  },
  {
   "cell_type": "code",
   "execution_count": 41,
   "id": "269510f4",
   "metadata": {
    "execution": {
     "iopub.execute_input": "2025-03-30T11:27:35.501630Z",
     "iopub.status.busy": "2025-03-30T11:27:35.501290Z",
     "iopub.status.idle": "2025-03-30T11:27:35.526596Z",
     "shell.execute_reply": "2025-03-30T11:27:35.525427Z"
    },
    "papermill": {
     "duration": 0.038009,
     "end_time": "2025-03-30T11:27:35.528515",
     "exception": false,
     "start_time": "2025-03-30T11:27:35.490506",
     "status": "completed"
    },
    "tags": []
   },
   "outputs": [
    {
     "data": {
      "application/vnd.microsoft.datawrangler.viewer.v0+json": {
       "columns": [
        {
         "name": "index",
         "rawType": "int64",
         "type": "integer"
        },
        {
         "name": "Gender",
         "rawType": "object",
         "type": "string"
        },
        {
         "name": "Age",
         "rawType": "float64",
         "type": "float"
        },
        {
         "name": "Height",
         "rawType": "float64",
         "type": "float"
        },
        {
         "name": "Weight",
         "rawType": "float64",
         "type": "float"
        },
        {
         "name": "family_history",
         "rawType": "object",
         "type": "string"
        },
        {
         "name": "FAVC",
         "rawType": "object",
         "type": "string"
        },
        {
         "name": "FCVC",
         "rawType": "float64",
         "type": "float"
        },
        {
         "name": "NCP",
         "rawType": "float64",
         "type": "float"
        },
        {
         "name": "CAEC",
         "rawType": "object",
         "type": "string"
        },
        {
         "name": "SMOKE",
         "rawType": "object",
         "type": "string"
        },
        {
         "name": "CH2O",
         "rawType": "float64",
         "type": "float"
        },
        {
         "name": "SCC",
         "rawType": "object",
         "type": "string"
        },
        {
         "name": "FAF",
         "rawType": "float64",
         "type": "float"
        },
        {
         "name": "TUE",
         "rawType": "float64",
         "type": "float"
        },
        {
         "name": "CALC",
         "rawType": "object",
         "type": "string"
        },
        {
         "name": "MTRANS",
         "rawType": "object",
         "type": "string"
        },
        {
         "name": "target",
         "rawType": "int64",
         "type": "integer"
        }
       ],
       "conversionMethod": "pd.DataFrame",
       "ref": "c8564ce8-b33b-4b34-8a37-384b1e5178cc",
       "rows": [
        [
         "0",
         "Female",
         "21.0",
         "1.62",
         "64.0",
         "yes",
         "no",
         "2.0",
         "3.0",
         "Sometimes",
         "no",
         "2.0",
         "no",
         "0.0",
         "1.0",
         "no",
         "Public_Transportation",
         "1"
        ],
        [
         "1",
         "Female",
         "21.0",
         "1.52",
         "56.0",
         "yes",
         "no",
         "3.0",
         "3.0",
         "Sometimes",
         "yes",
         "3.0",
         "yes",
         "3.0",
         "0.0",
         "Sometimes",
         "Public_Transportation",
         "1"
        ],
        [
         "2",
         "Male",
         "23.0",
         "1.8",
         "77.0",
         "yes",
         "no",
         "2.0",
         "3.0",
         "Sometimes",
         "no",
         "2.0",
         "no",
         "2.0",
         "1.0",
         "Frequently",
         "Public_Transportation",
         "1"
        ],
        [
         "3",
         "Male",
         "27.0",
         "1.8",
         "87.0",
         "no",
         "no",
         "3.0",
         "3.0",
         "Sometimes",
         "no",
         "2.0",
         "no",
         "2.0",
         "0.0",
         "Frequently",
         "Walking",
         "2"
        ],
        [
         "4",
         "Male",
         "22.0",
         "1.78",
         "89.8",
         "no",
         "no",
         "2.0",
         "1.0",
         "Sometimes",
         "no",
         "2.0",
         "no",
         "0.0",
         "0.0",
         "Sometimes",
         "Public_Transportation",
         "3"
        ],
        [
         "5",
         "Male",
         "29.0",
         "1.62",
         "53.0",
         "no",
         "yes",
         "2.0",
         "3.0",
         "Sometimes",
         "no",
         "2.0",
         "no",
         "0.0",
         "0.0",
         "Sometimes",
         "Automobile",
         "1"
        ],
        [
         "6",
         "Female",
         "23.0",
         "1.5",
         "55.0",
         "yes",
         "yes",
         "3.0",
         "3.0",
         "Sometimes",
         "no",
         "2.0",
         "no",
         "1.0",
         "0.0",
         "Sometimes",
         "Motorbike",
         "1"
        ],
        [
         "7",
         "Male",
         "22.0",
         "1.64",
         "53.0",
         "no",
         "no",
         "2.0",
         "3.0",
         "Sometimes",
         "no",
         "2.0",
         "no",
         "3.0",
         "0.0",
         "Sometimes",
         "Public_Transportation",
         "1"
        ],
        [
         "8",
         "Male",
         "24.0",
         "1.78",
         "64.0",
         "yes",
         "yes",
         "3.0",
         "3.0",
         "Sometimes",
         "no",
         "2.0",
         "no",
         "1.0",
         "1.0",
         "Frequently",
         "Public_Transportation",
         "1"
        ],
        [
         "9",
         "Male",
         "22.0",
         "1.72",
         "68.0",
         "yes",
         "yes",
         "2.0",
         "3.0",
         "Sometimes",
         "no",
         "2.0",
         "no",
         "1.0",
         "1.0",
         "no",
         "Public_Transportation",
         "1"
        ],
        [
         "10",
         "Male",
         "26.0",
         "1.85",
         "105.0",
         "yes",
         "yes",
         "3.0",
         "3.0",
         "Frequently",
         "no",
         "3.0",
         "no",
         "2.0",
         "2.0",
         "Sometimes",
         "Public_Transportation",
         "4"
        ],
        [
         "11",
         "Female",
         "21.0",
         "1.72",
         "80.0",
         "yes",
         "yes",
         "2.0",
         "3.0",
         "Frequently",
         "no",
         "2.0",
         "yes",
         "2.0",
         "1.0",
         "Sometimes",
         "Public_Transportation",
         "3"
        ],
        [
         "12",
         "Male",
         "22.0",
         "1.65",
         "56.0",
         "no",
         "no",
         "3.0",
         "3.0",
         "Sometimes",
         "no",
         "3.0",
         "no",
         "2.0",
         "0.0",
         "Sometimes",
         "Public_Transportation",
         "1"
        ],
        [
         "13",
         "Male",
         "41.0",
         "1.8",
         "99.0",
         "no",
         "yes",
         "2.0",
         "3.0",
         "Sometimes",
         "no",
         "2.0",
         "no",
         "2.0",
         "1.0",
         "Frequently",
         "Automobile",
         "4"
        ],
        [
         "14",
         "Male",
         "23.0",
         "1.77",
         "60.0",
         "yes",
         "yes",
         "3.0",
         "1.0",
         "Sometimes",
         "no",
         "1.0",
         "no",
         "1.0",
         "1.0",
         "Sometimes",
         "Public_Transportation",
         "1"
        ],
        [
         "15",
         "Female",
         "22.0",
         "1.7",
         "66.0",
         "yes",
         "no",
         "3.0",
         "3.0",
         "Always",
         "no",
         "2.0",
         "yes",
         "2.0",
         "1.0",
         "Sometimes",
         "Public_Transportation",
         "1"
        ],
        [
         "16",
         "Male",
         "27.0",
         "1.93",
         "102.0",
         "yes",
         "yes",
         "2.0",
         "1.0",
         "Sometimes",
         "no",
         "1.0",
         "no",
         "1.0",
         "0.0",
         "Sometimes",
         "Public_Transportation",
         "3"
        ],
        [
         "17",
         "Female",
         "29.0",
         "1.53",
         "78.0",
         "no",
         "yes",
         "2.0",
         "1.0",
         "Sometimes",
         "no",
         "2.0",
         "no",
         "0.0",
         "0.0",
         "no",
         "Automobile",
         "4"
        ],
        [
         "18",
         "Female",
         "30.0",
         "1.71",
         "82.0",
         "yes",
         "yes",
         "3.0",
         "4.0",
         "Frequently",
         "yes",
         "1.0",
         "no",
         "0.0",
         "0.0",
         "no",
         "Automobile",
         "3"
        ],
        [
         "19",
         "Female",
         "23.0",
         "1.65",
         "70.0",
         "yes",
         "no",
         "2.0",
         "1.0",
         "Sometimes",
         "no",
         "2.0",
         "no",
         "0.0",
         "0.0",
         "Sometimes",
         "Public_Transportation",
         "2"
        ],
        [
         "20",
         "Male",
         "22.0",
         "1.65",
         "80.0",
         "yes",
         "no",
         "2.0",
         "3.0",
         "Sometimes",
         "no",
         "2.0",
         "no",
         "3.0",
         "2.0",
         "no",
         "Walking",
         "3"
        ],
        [
         "21",
         "Female",
         "52.0",
         "1.69",
         "87.0",
         "yes",
         "yes",
         "3.0",
         "1.0",
         "Sometimes",
         "yes",
         "2.0",
         "no",
         "0.0",
         "0.0",
         "no",
         "Automobile",
         "4"
        ],
        [
         "22",
         "Female",
         "22.0",
         "1.65",
         "60.0",
         "yes",
         "yes",
         "3.0",
         "3.0",
         "Sometimes",
         "no",
         "2.0",
         "no",
         "1.0",
         "0.0",
         "Sometimes",
         "Automobile",
         "1"
        ],
        [
         "23",
         "Female",
         "22.0",
         "1.6",
         "82.0",
         "yes",
         "yes",
         "1.0",
         "1.0",
         "Sometimes",
         "no",
         "2.0",
         "no",
         "0.0",
         "2.0",
         "Sometimes",
         "Public_Transportation",
         "4"
        ],
        [
         "24",
         "Male",
         "21.0",
         "1.85",
         "68.0",
         "yes",
         "yes",
         "2.0",
         "3.0",
         "Sometimes",
         "no",
         "2.0",
         "no",
         "0.0",
         "1.0",
         "Sometimes",
         "Public_Transportation",
         "1"
        ],
        [
         "25",
         "Male",
         "20.0",
         "1.6",
         "50.0",
         "yes",
         "no",
         "2.0",
         "4.0",
         "Frequently",
         "yes",
         "2.0",
         "no",
         "3.0",
         "2.0",
         "no",
         "Public_Transportation",
         "1"
        ],
        [
         "26",
         "Male",
         "21.0",
         "1.7",
         "65.0",
         "yes",
         "yes",
         "2.0",
         "1.0",
         "Frequently",
         "no",
         "2.0",
         "no",
         "1.0",
         "2.0",
         "Always",
         "Walking",
         "1"
        ],
        [
         "27",
         "Female",
         "23.0",
         "1.6",
         "52.0",
         "no",
         "yes",
         "2.0",
         "4.0",
         "Frequently",
         "no",
         "2.0",
         "no",
         "2.0",
         "1.0",
         "Sometimes",
         "Automobile",
         "1"
        ],
        [
         "28",
         "Male",
         "19.0",
         "1.75",
         "76.0",
         "yes",
         "yes",
         "3.0",
         "3.0",
         "Sometimes",
         "no",
         "2.0",
         "yes",
         "3.0",
         "1.0",
         "Sometimes",
         "Public_Transportation",
         "1"
        ],
        [
         "29",
         "Male",
         "23.0",
         "1.68",
         "70.0",
         "no",
         "yes",
         "2.0",
         "3.0",
         "Sometimes",
         "no",
         "2.0",
         "no",
         "2.0",
         "2.0",
         "Frequently",
         "Walking",
         "1"
        ],
        [
         "30",
         "Male",
         "29.0",
         "1.77",
         "83.0",
         "no",
         "yes",
         "1.0",
         "4.0",
         "Frequently",
         "no",
         "3.0",
         "no",
         "0.0",
         "1.0",
         "no",
         "Motorbike",
         "2"
        ],
        [
         "31",
         "Female",
         "31.0",
         "1.58",
         "68.0",
         "yes",
         "no",
         "2.0",
         "1.0",
         "Sometimes",
         "no",
         "1.0",
         "no",
         "1.0",
         "0.0",
         "Sometimes",
         "Public_Transportation",
         "3"
        ],
        [
         "32",
         "Female",
         "24.0",
         "1.77",
         "76.0",
         "no",
         "no",
         "2.0",
         "3.0",
         "Sometimes",
         "no",
         "3.0",
         "no",
         "1.0",
         "1.0",
         "Sometimes",
         "Walking",
         "1"
        ],
        [
         "33",
         "Male",
         "39.0",
         "1.79",
         "90.0",
         "no",
         "no",
         "2.0",
         "1.0",
         "Sometimes",
         "no",
         "2.0",
         "no",
         "0.0",
         "0.0",
         "Sometimes",
         "Public_Transportation",
         "3"
        ],
        [
         "34",
         "Male",
         "22.0",
         "1.65",
         "62.0",
         "no",
         "yes",
         "2.0",
         "4.0",
         "Frequently",
         "no",
         "2.0",
         "no",
         "2.0",
         "0.0",
         "Sometimes",
         "Public_Transportation",
         "1"
        ],
        [
         "35",
         "Female",
         "21.0",
         "1.5",
         "65.0",
         "yes",
         "no",
         "2.0",
         "3.0",
         "Sometimes",
         "no",
         "2.0",
         "no",
         "2.0",
         "2.0",
         "Sometimes",
         "Public_Transportation",
         "3"
        ],
        [
         "36",
         "Female",
         "22.0",
         "1.56",
         "49.0",
         "no",
         "yes",
         "2.0",
         "3.0",
         "Sometimes",
         "no",
         "1.0",
         "yes",
         "2.0",
         "0.0",
         "no",
         "Walking",
         "1"
        ],
        [
         "37",
         "Female",
         "21.0",
         "1.6",
         "48.0",
         "no",
         "yes",
         "2.0",
         "3.0",
         "Sometimes",
         "no",
         "1.0",
         "no",
         "1.0",
         "0.0",
         "Sometimes",
         "Public_Transportation",
         "1"
        ],
        [
         "38",
         "Male",
         "23.0",
         "1.65",
         "67.0",
         "yes",
         "yes",
         "2.0",
         "3.0",
         "Sometimes",
         "no",
         "2.0",
         "no",
         "1.0",
         "1.0",
         "Sometimes",
         "Public_Transportation",
         "1"
        ],
        [
         "39",
         "Female",
         "21.0",
         "1.75",
         "88.0",
         "yes",
         "yes",
         "2.0",
         "3.0",
         "Sometimes",
         "no",
         "3.0",
         "no",
         "3.0",
         "0.0",
         "Sometimes",
         "Public_Transportation",
         "3"
        ],
        [
         "40",
         "Female",
         "21.0",
         "1.67",
         "75.0",
         "yes",
         "yes",
         "2.0",
         "3.0",
         "Sometimes",
         "no",
         "2.0",
         "no",
         "1.0",
         "0.0",
         "Sometimes",
         "Public_Transportation",
         "2"
        ],
        [
         "41",
         "Male",
         "23.0",
         "1.68",
         "60.0",
         "no",
         "no",
         "2.0",
         "4.0",
         "Frequently",
         "no",
         "2.0",
         "no",
         "0.0",
         "0.0",
         "no",
         "Walking",
         "1"
        ],
        [
         "42",
         "Female",
         "21.0",
         "1.66",
         "64.0",
         "yes",
         "yes",
         "1.0",
         "3.0",
         "Sometimes",
         "no",
         "1.0",
         "no",
         "0.0",
         "0.0",
         "no",
         "Public_Transportation",
         "1"
        ],
        [
         "43",
         "Male",
         "21.0",
         "1.66",
         "62.0",
         "yes",
         "yes",
         "2.0",
         "3.0",
         "Sometimes",
         "yes",
         "2.0",
         "no",
         "1.0",
         "1.0",
         "Frequently",
         "Public_Transportation",
         "1"
        ],
        [
         "44",
         "Male",
         "21.0",
         "1.81",
         "80.0",
         "no",
         "no",
         "1.0",
         "3.0",
         "no",
         "no",
         "2.0",
         "no",
         "2.0",
         "0.0",
         "no",
         "Public_Transportation",
         "1"
        ],
        [
         "45",
         "Female",
         "21.0",
         "1.53",
         "65.0",
         "yes",
         "no",
         "2.0",
         "3.0",
         "Sometimes",
         "no",
         "1.0",
         "no",
         "0.0",
         "1.0",
         "no",
         "Public_Transportation",
         "3"
        ],
        [
         "46",
         "Male",
         "21.0",
         "1.82",
         "72.0",
         "yes",
         "yes",
         "1.0",
         "3.0",
         "Frequently",
         "no",
         "3.0",
         "no",
         "2.0",
         "0.0",
         "Sometimes",
         "Public_Transportation",
         "1"
        ],
        [
         "47",
         "Male",
         "21.0",
         "1.75",
         "72.0",
         "yes",
         "yes",
         "1.0",
         "3.0",
         "Frequently",
         "no",
         "3.0",
         "no",
         "2.0",
         "0.0",
         "Sometimes",
         "Public_Transportation",
         "1"
        ],
        [
         "48",
         "Female",
         "20.0",
         "1.66",
         "60.0",
         "yes",
         "no",
         "3.0",
         "3.0",
         "Sometimes",
         "no",
         "2.0",
         "no",
         "1.0",
         "0.0",
         "Sometimes",
         "Walking",
         "1"
        ],
        [
         "49",
         "Female",
         "21.0",
         "1.55",
         "50.0",
         "no",
         "yes",
         "2.0",
         "3.0",
         "Sometimes",
         "no",
         "2.0",
         "no",
         "0.0",
         "0.0",
         "Sometimes",
         "Public_Transportation",
         "1"
        ]
       ],
       "shape": {
        "columns": 17,
        "rows": 2087
       }
      },
      "text/html": [
       "<div>\n",
       "<style scoped>\n",
       "    .dataframe tbody tr th:only-of-type {\n",
       "        vertical-align: middle;\n",
       "    }\n",
       "\n",
       "    .dataframe tbody tr th {\n",
       "        vertical-align: top;\n",
       "    }\n",
       "\n",
       "    .dataframe thead th {\n",
       "        text-align: right;\n",
       "    }\n",
       "</style>\n",
       "<table border=\"1\" class=\"dataframe\">\n",
       "  <thead>\n",
       "    <tr style=\"text-align: right;\">\n",
       "      <th></th>\n",
       "      <th>Gender</th>\n",
       "      <th>Age</th>\n",
       "      <th>Height</th>\n",
       "      <th>Weight</th>\n",
       "      <th>family_history</th>\n",
       "      <th>FAVC</th>\n",
       "      <th>FCVC</th>\n",
       "      <th>NCP</th>\n",
       "      <th>CAEC</th>\n",
       "      <th>SMOKE</th>\n",
       "      <th>CH2O</th>\n",
       "      <th>SCC</th>\n",
       "      <th>FAF</th>\n",
       "      <th>TUE</th>\n",
       "      <th>CALC</th>\n",
       "      <th>MTRANS</th>\n",
       "      <th>target</th>\n",
       "    </tr>\n",
       "  </thead>\n",
       "  <tbody>\n",
       "    <tr>\n",
       "      <th>0</th>\n",
       "      <td>Female</td>\n",
       "      <td>21.000000</td>\n",
       "      <td>1.620000</td>\n",
       "      <td>64.000000</td>\n",
       "      <td>yes</td>\n",
       "      <td>no</td>\n",
       "      <td>2.0</td>\n",
       "      <td>3.0</td>\n",
       "      <td>Sometimes</td>\n",
       "      <td>no</td>\n",
       "      <td>2.000000</td>\n",
       "      <td>no</td>\n",
       "      <td>0.000000</td>\n",
       "      <td>1.000000</td>\n",
       "      <td>no</td>\n",
       "      <td>Public_Transportation</td>\n",
       "      <td>1</td>\n",
       "    </tr>\n",
       "    <tr>\n",
       "      <th>1</th>\n",
       "      <td>Female</td>\n",
       "      <td>21.000000</td>\n",
       "      <td>1.520000</td>\n",
       "      <td>56.000000</td>\n",
       "      <td>yes</td>\n",
       "      <td>no</td>\n",
       "      <td>3.0</td>\n",
       "      <td>3.0</td>\n",
       "      <td>Sometimes</td>\n",
       "      <td>yes</td>\n",
       "      <td>3.000000</td>\n",
       "      <td>yes</td>\n",
       "      <td>3.000000</td>\n",
       "      <td>0.000000</td>\n",
       "      <td>Sometimes</td>\n",
       "      <td>Public_Transportation</td>\n",
       "      <td>1</td>\n",
       "    </tr>\n",
       "    <tr>\n",
       "      <th>2</th>\n",
       "      <td>Male</td>\n",
       "      <td>23.000000</td>\n",
       "      <td>1.800000</td>\n",
       "      <td>77.000000</td>\n",
       "      <td>yes</td>\n",
       "      <td>no</td>\n",
       "      <td>2.0</td>\n",
       "      <td>3.0</td>\n",
       "      <td>Sometimes</td>\n",
       "      <td>no</td>\n",
       "      <td>2.000000</td>\n",
       "      <td>no</td>\n",
       "      <td>2.000000</td>\n",
       "      <td>1.000000</td>\n",
       "      <td>Frequently</td>\n",
       "      <td>Public_Transportation</td>\n",
       "      <td>1</td>\n",
       "    </tr>\n",
       "    <tr>\n",
       "      <th>3</th>\n",
       "      <td>Male</td>\n",
       "      <td>27.000000</td>\n",
       "      <td>1.800000</td>\n",
       "      <td>87.000000</td>\n",
       "      <td>no</td>\n",
       "      <td>no</td>\n",
       "      <td>3.0</td>\n",
       "      <td>3.0</td>\n",
       "      <td>Sometimes</td>\n",
       "      <td>no</td>\n",
       "      <td>2.000000</td>\n",
       "      <td>no</td>\n",
       "      <td>2.000000</td>\n",
       "      <td>0.000000</td>\n",
       "      <td>Frequently</td>\n",
       "      <td>Walking</td>\n",
       "      <td>2</td>\n",
       "    </tr>\n",
       "    <tr>\n",
       "      <th>4</th>\n",
       "      <td>Male</td>\n",
       "      <td>22.000000</td>\n",
       "      <td>1.780000</td>\n",
       "      <td>89.800000</td>\n",
       "      <td>no</td>\n",
       "      <td>no</td>\n",
       "      <td>2.0</td>\n",
       "      <td>1.0</td>\n",
       "      <td>Sometimes</td>\n",
       "      <td>no</td>\n",
       "      <td>2.000000</td>\n",
       "      <td>no</td>\n",
       "      <td>0.000000</td>\n",
       "      <td>0.000000</td>\n",
       "      <td>Sometimes</td>\n",
       "      <td>Public_Transportation</td>\n",
       "      <td>3</td>\n",
       "    </tr>\n",
       "    <tr>\n",
       "      <th>...</th>\n",
       "      <td>...</td>\n",
       "      <td>...</td>\n",
       "      <td>...</td>\n",
       "      <td>...</td>\n",
       "      <td>...</td>\n",
       "      <td>...</td>\n",
       "      <td>...</td>\n",
       "      <td>...</td>\n",
       "      <td>...</td>\n",
       "      <td>...</td>\n",
       "      <td>...</td>\n",
       "      <td>...</td>\n",
       "      <td>...</td>\n",
       "      <td>...</td>\n",
       "      <td>...</td>\n",
       "      <td>...</td>\n",
       "      <td>...</td>\n",
       "    </tr>\n",
       "    <tr>\n",
       "      <th>2106</th>\n",
       "      <td>Female</td>\n",
       "      <td>20.976842</td>\n",
       "      <td>1.710730</td>\n",
       "      <td>131.408528</td>\n",
       "      <td>yes</td>\n",
       "      <td>yes</td>\n",
       "      <td>3.0</td>\n",
       "      <td>3.0</td>\n",
       "      <td>Sometimes</td>\n",
       "      <td>no</td>\n",
       "      <td>1.728139</td>\n",
       "      <td>no</td>\n",
       "      <td>1.676269</td>\n",
       "      <td>0.906247</td>\n",
       "      <td>Sometimes</td>\n",
       "      <td>Public_Transportation</td>\n",
       "      <td>6</td>\n",
       "    </tr>\n",
       "    <tr>\n",
       "      <th>2107</th>\n",
       "      <td>Female</td>\n",
       "      <td>21.982942</td>\n",
       "      <td>1.748584</td>\n",
       "      <td>133.742943</td>\n",
       "      <td>yes</td>\n",
       "      <td>yes</td>\n",
       "      <td>3.0</td>\n",
       "      <td>3.0</td>\n",
       "      <td>Sometimes</td>\n",
       "      <td>no</td>\n",
       "      <td>2.005130</td>\n",
       "      <td>no</td>\n",
       "      <td>1.341390</td>\n",
       "      <td>0.599270</td>\n",
       "      <td>Sometimes</td>\n",
       "      <td>Public_Transportation</td>\n",
       "      <td>6</td>\n",
       "    </tr>\n",
       "    <tr>\n",
       "      <th>2108</th>\n",
       "      <td>Female</td>\n",
       "      <td>22.524036</td>\n",
       "      <td>1.752206</td>\n",
       "      <td>133.689352</td>\n",
       "      <td>yes</td>\n",
       "      <td>yes</td>\n",
       "      <td>3.0</td>\n",
       "      <td>3.0</td>\n",
       "      <td>Sometimes</td>\n",
       "      <td>no</td>\n",
       "      <td>2.054193</td>\n",
       "      <td>no</td>\n",
       "      <td>1.414209</td>\n",
       "      <td>0.646288</td>\n",
       "      <td>Sometimes</td>\n",
       "      <td>Public_Transportation</td>\n",
       "      <td>6</td>\n",
       "    </tr>\n",
       "    <tr>\n",
       "      <th>2109</th>\n",
       "      <td>Female</td>\n",
       "      <td>24.361936</td>\n",
       "      <td>1.739450</td>\n",
       "      <td>133.346641</td>\n",
       "      <td>yes</td>\n",
       "      <td>yes</td>\n",
       "      <td>3.0</td>\n",
       "      <td>3.0</td>\n",
       "      <td>Sometimes</td>\n",
       "      <td>no</td>\n",
       "      <td>2.852339</td>\n",
       "      <td>no</td>\n",
       "      <td>1.139107</td>\n",
       "      <td>0.586035</td>\n",
       "      <td>Sometimes</td>\n",
       "      <td>Public_Transportation</td>\n",
       "      <td>6</td>\n",
       "    </tr>\n",
       "    <tr>\n",
       "      <th>2110</th>\n",
       "      <td>Female</td>\n",
       "      <td>23.664709</td>\n",
       "      <td>1.738836</td>\n",
       "      <td>133.472641</td>\n",
       "      <td>yes</td>\n",
       "      <td>yes</td>\n",
       "      <td>3.0</td>\n",
       "      <td>3.0</td>\n",
       "      <td>Sometimes</td>\n",
       "      <td>no</td>\n",
       "      <td>2.863513</td>\n",
       "      <td>no</td>\n",
       "      <td>1.026452</td>\n",
       "      <td>0.714137</td>\n",
       "      <td>Sometimes</td>\n",
       "      <td>Public_Transportation</td>\n",
       "      <td>6</td>\n",
       "    </tr>\n",
       "  </tbody>\n",
       "</table>\n",
       "<p>2087 rows × 17 columns</p>\n",
       "</div>"
      ],
      "text/plain": [
       "      Gender        Age    Height      Weight family_history FAVC  FCVC  NCP  \\\n",
       "0     Female  21.000000  1.620000   64.000000            yes   no   2.0  3.0   \n",
       "1     Female  21.000000  1.520000   56.000000            yes   no   3.0  3.0   \n",
       "2       Male  23.000000  1.800000   77.000000            yes   no   2.0  3.0   \n",
       "3       Male  27.000000  1.800000   87.000000             no   no   3.0  3.0   \n",
       "4       Male  22.000000  1.780000   89.800000             no   no   2.0  1.0   \n",
       "...      ...        ...       ...         ...            ...  ...   ...  ...   \n",
       "2106  Female  20.976842  1.710730  131.408528            yes  yes   3.0  3.0   \n",
       "2107  Female  21.982942  1.748584  133.742943            yes  yes   3.0  3.0   \n",
       "2108  Female  22.524036  1.752206  133.689352            yes  yes   3.0  3.0   \n",
       "2109  Female  24.361936  1.739450  133.346641            yes  yes   3.0  3.0   \n",
       "2110  Female  23.664709  1.738836  133.472641            yes  yes   3.0  3.0   \n",
       "\n",
       "           CAEC SMOKE      CH2O  SCC       FAF       TUE        CALC  \\\n",
       "0     Sometimes    no  2.000000   no  0.000000  1.000000          no   \n",
       "1     Sometimes   yes  3.000000  yes  3.000000  0.000000   Sometimes   \n",
       "2     Sometimes    no  2.000000   no  2.000000  1.000000  Frequently   \n",
       "3     Sometimes    no  2.000000   no  2.000000  0.000000  Frequently   \n",
       "4     Sometimes    no  2.000000   no  0.000000  0.000000   Sometimes   \n",
       "...         ...   ...       ...  ...       ...       ...         ...   \n",
       "2106  Sometimes    no  1.728139   no  1.676269  0.906247   Sometimes   \n",
       "2107  Sometimes    no  2.005130   no  1.341390  0.599270   Sometimes   \n",
       "2108  Sometimes    no  2.054193   no  1.414209  0.646288   Sometimes   \n",
       "2109  Sometimes    no  2.852339   no  1.139107  0.586035   Sometimes   \n",
       "2110  Sometimes    no  2.863513   no  1.026452  0.714137   Sometimes   \n",
       "\n",
       "                     MTRANS  target  \n",
       "0     Public_Transportation       1  \n",
       "1     Public_Transportation       1  \n",
       "2     Public_Transportation       1  \n",
       "3                   Walking       2  \n",
       "4     Public_Transportation       3  \n",
       "...                     ...     ...  \n",
       "2106  Public_Transportation       6  \n",
       "2107  Public_Transportation       6  \n",
       "2108  Public_Transportation       6  \n",
       "2109  Public_Transportation       6  \n",
       "2110  Public_Transportation       6  \n",
       "\n",
       "[2087 rows x 17 columns]"
      ]
     },
     "execution_count": 41,
     "metadata": {},
     "output_type": "execute_result"
    }
   ],
   "source": [
    "df = df.drop('Obesity', axis=1)\n",
    "df"
   ]
  },
  {
   "cell_type": "markdown",
   "id": "a7a4b094",
   "metadata": {
    "papermill": {
     "duration": 0.008544,
     "end_time": "2025-03-30T11:27:35.546139",
     "exception": false,
     "start_time": "2025-03-30T11:27:35.537595",
     "status": "completed"
    },
    "tags": []
   },
   "source": [
    "## Forth Step: ***Visualize some key faetures from the data***"
   ]
  },
  {
   "cell_type": "code",
   "execution_count": 42,
   "id": "ab94be58",
   "metadata": {
    "execution": {
     "iopub.execute_input": "2025-03-30T11:27:35.567983Z",
     "iopub.status.busy": "2025-03-30T11:27:35.567615Z",
     "iopub.status.idle": "2025-03-30T11:27:37.985139Z",
     "shell.execute_reply": "2025-03-30T11:27:37.983844Z"
    },
    "papermill": {
     "duration": 2.430599,
     "end_time": "2025-03-30T11:27:37.987317",
     "exception": false,
     "start_time": "2025-03-30T11:27:35.556718",
     "status": "completed"
    },
    "tags": []
   },
   "outputs": [
    {
     "data": {
      "text/plain": [
       "<Axes: >"
      ]
     },
     "execution_count": 42,
     "metadata": {},
     "output_type": "execute_result"
    },
    {
     "data": {
      "image/png": "[encoded data removed]",
      "text/plain": [
       "<Figure size 640x480 with 2 Axes>"
      ]
     },
     "metadata": {},
     "output_type": "display_data"
    }
   ],
   "source": [
    "import seaborn as sns\n",
    "\n",
    "correlation = df.select_dtypes(include=['number']).corr()\n",
    "sns.heatmap(correlation, annot=True, cmap='coolwarm')"
   ]
  },
  {
   "cell_type": "code",
   "execution_count": 43,
   "id": "cf33db07",
   "metadata": {
    "execution": {
     "iopub.execute_input": "2025-03-30T11:27:38.011683Z",
     "iopub.status.busy": "2025-03-30T11:27:38.011160Z",
     "iopub.status.idle": "2025-03-30T11:27:38.129605Z",
     "shell.execute_reply": "2025-03-30T11:27:38.128356Z"
    },
    "papermill": {
     "duration": 0.133129,
     "end_time": "2025-03-30T11:27:38.131422",
     "exception": false,
     "start_time": "2025-03-30T11:27:37.998293",
     "status": "completed"
    },
    "tags": []
   },
   "outputs": [
    {
     "data": {
      "image/png": "[encoded data removed]",
      "text/plain": [
       "<Figure size 640x480 with 1 Axes>"
      ]
     },
     "metadata": {},
     "output_type": "display_data"
    }
   ],
   "source": [
    "import matplotlib.pyplot as plt\n",
    "\n",
    "\n",
    "plt.pie(df['family_history'].value_counts(),labels=df['family_history'].value_counts().index, autopct='%1.1f%%', colors=['#51b553', '#e65850'],startangle = 90)\n",
    "plt.title('history of the family with overweight')\n",
    "plt.show()"
   ]
  },
  {
   "cell_type": "code",
   "execution_count": 44,
   "id": "7d05f800",
   "metadata": {
    "execution": {
     "iopub.execute_input": "2025-03-30T11:27:38.155713Z",
     "iopub.status.busy": "2025-03-30T11:27:38.155360Z",
     "iopub.status.idle": "2025-03-30T11:27:38.328423Z",
     "shell.execute_reply": "2025-03-30T11:27:38.327368Z"
    },
    "papermill": {
     "duration": 0.187482,
     "end_time": "2025-03-30T11:27:38.330350",
     "exception": false,
     "start_time": "2025-03-30T11:27:38.142868",
     "status": "completed"
    },
    "tags": []
   },
   "outputs": [
    {
     "data": {
      "image/png": "[encoded data removed]",
      "text/plain": [
       "<Figure size 640x480 with 1 Axes>"
      ]
     },
     "metadata": {},
     "output_type": "display_data"
    }
   ],
   "source": [
    "plt.bar(df['CAEC'].value_counts().index, df['CAEC'].value_counts())\n",
    "plt.title('Do you eat any food between meals? survey')\n",
    "plt.show()"
   ]
  },
  {
   "cell_type": "code",
   "execution_count": 45,
   "id": "8da40be8",
   "metadata": {
    "execution": {
     "iopub.execute_input": "2025-03-30T11:27:38.359131Z",
     "iopub.status.busy": "2025-03-30T11:27:38.358719Z",
     "iopub.status.idle": "2025-03-30T11:27:38.590602Z",
     "shell.execute_reply": "2025-03-30T11:27:38.589370Z"
    },
    "papermill": {
     "duration": 0.246764,
     "end_time": "2025-03-30T11:27:38.592487",
     "exception": false,
     "start_time": "2025-03-30T11:27:38.345723",
     "status": "completed"
    },
    "tags": []
   },
   "outputs": [
    {
     "data": {
      "image/png": "[encoded data removed]",
      "text/plain": [
       "<Figure size 640x480 with 1 Axes>"
      ]
     },
     "metadata": {},
     "output_type": "display_data"
    }
   ],
   "source": [
    "plt.hist(df['Weight'], density=True ,color='#fcba03')\n",
    "plt.title('Weight distribution', fontweight='bold')\n",
    "plt.grid(linewidth = 0.5)\n",
    "plt.show()"
   ]
  },
  {
   "cell_type": "markdown",
   "id": "fc83a5ce",
   "metadata": {
    "papermill": {
     "duration": 0.012361,
     "end_time": "2025-03-30T11:27:38.617208",
     "exception": false,
     "start_time": "2025-03-30T11:27:38.604847",
     "status": "completed"
    },
    "tags": []
   },
   "source": [
    "## Fifth Step: ***Preprocess the data***"
   ]
  },
  {
   "cell_type": "code",
   "execution_count": 46,
   "id": "3d436274",
   "metadata": {
    "execution": {
     "iopub.execute_input": "2025-03-30T11:27:38.643639Z",
     "iopub.status.busy": "2025-03-30T11:27:38.643280Z",
     "iopub.status.idle": "2025-03-30T11:27:38.839468Z",
     "shell.execute_reply": "2025-03-30T11:27:38.838184Z"
    },
    "papermill": {
     "duration": 0.212031,
     "end_time": "2025-03-30T11:27:38.841509",
     "exception": false,
     "start_time": "2025-03-30T11:27:38.629478",
     "status": "completed"
    },
    "tags": []
   },
   "outputs": [],
   "source": [
    "from sklearn.preprocessing import LabelEncoder\n",
    "\n",
    "d_types = dict(df.dtypes)\n",
    "\n",
    "for name , type_ in d_types.items():\n",
    "    if str(type_) == 'object':\n",
    "        Le = LabelEncoder()\n",
    "        df[name] = Le.fit_transform(df[name])"
   ]
  },
  {
   "cell_type": "code",
   "execution_count": 47,
   "id": "444d8433",
   "metadata": {
    "execution": {
     "iopub.execute_input": "2025-03-30T11:27:38.867206Z",
     "iopub.status.busy": "2025-03-30T11:27:38.866805Z",
     "iopub.status.idle": "2025-03-30T11:27:38.884658Z",
     "shell.execute_reply": "2025-03-30T11:27:38.883595Z"
    },
    "papermill": {
     "duration": 0.032864,
     "end_time": "2025-03-30T11:27:38.886545",
     "exception": false,
     "start_time": "2025-03-30T11:27:38.853681",
     "status": "completed"
    },
    "tags": []
   },
   "outputs": [
    {
     "data": {
      "application/vnd.microsoft.datawrangler.viewer.v0+json": {
       "columns": [
        {
         "name": "index",
         "rawType": "int64",
         "type": "integer"
        },
        {
         "name": "Gender",
         "rawType": "int32",
         "type": "integer"
        },
        {
         "name": "Age",
         "rawType": "float64",
         "type": "float"
        },
        {
         "name": "Height",
         "rawType": "float64",
         "type": "float"
        },
        {
         "name": "Weight",
         "rawType": "float64",
         "type": "float"
        },
        {
         "name": "family_history",
         "rawType": "int32",
         "type": "integer"
        },
        {
         "name": "FAVC",
         "rawType": "int32",
         "type": "integer"
        },
        {
         "name": "FCVC",
         "rawType": "float64",
         "type": "float"
        },
        {
         "name": "NCP",
         "rawType": "float64",
         "type": "float"
        },
        {
         "name": "CAEC",
         "rawType": "int32",
         "type": "integer"
        },
        {
         "name": "SMOKE",
         "rawType": "int32",
         "type": "integer"
        },
        {
         "name": "CH2O",
         "rawType": "float64",
         "type": "float"
        },
        {
         "name": "SCC",
         "rawType": "int32",
         "type": "integer"
        },
        {
         "name": "FAF",
         "rawType": "float64",
         "type": "float"
        },
        {
         "name": "TUE",
         "rawType": "float64",
         "type": "float"
        },
        {
         "name": "CALC",
         "rawType": "int32",
         "type": "integer"
        },
        {
         "name": "MTRANS",
         "rawType": "int32",
         "type": "integer"
        },
        {
         "name": "target",
         "rawType": "int64",
         "type": "integer"
        }
       ],
       "conversionMethod": "pd.DataFrame",
       "ref": "182e23f7-f354-4bd5-881c-256232c5b0c7",
       "rows": [
        [
         "0",
         "0",
         "21.0",
         "1.62",
         "64.0",
         "1",
         "0",
         "2.0",
         "3.0",
         "2",
         "0",
         "2.0",
         "0",
         "0.0",
         "1.0",
         "3",
         "3",
         "1"
        ],
        [
         "1",
         "0",
         "21.0",
         "1.52",
         "56.0",
         "1",
         "0",
         "3.0",
         "3.0",
         "2",
         "1",
         "3.0",
         "1",
         "3.0",
         "0.0",
         "2",
         "3",
         "1"
        ],
        [
         "2",
         "1",
         "23.0",
         "1.8",
         "77.0",
         "1",
         "0",
         "2.0",
         "3.0",
         "2",
         "0",
         "2.0",
         "0",
         "2.0",
         "1.0",
         "1",
         "3",
         "1"
        ],
        [
         "3",
         "1",
         "27.0",
         "1.8",
         "87.0",
         "0",
         "0",
         "3.0",
         "3.0",
         "2",
         "0",
         "2.0",
         "0",
         "2.0",
         "0.0",
         "1",
         "4",
         "2"
        ],
        [
         "4",
         "1",
         "22.0",
         "1.78",
         "89.8",
         "0",
         "0",
         "2.0",
         "1.0",
         "2",
         "0",
         "2.0",
         "0",
         "0.0",
         "0.0",
         "2",
         "3",
         "3"
        ]
       ],
       "shape": {
        "columns": 17,
        "rows": 5
       }
      },
      "text/html": [
       "<div>\n",
       "<style scoped>\n",
       "    .dataframe tbody tr th:only-of-type {\n",
       "        vertical-align: middle;\n",
       "    }\n",
       "\n",
       "    .dataframe tbody tr th {\n",
       "        vertical-align: top;\n",
       "    }\n",
       "\n",
       "    .dataframe thead th {\n",
       "        text-align: right;\n",
       "    }\n",
       "</style>\n",
       "<table border=\"1\" class=\"dataframe\">\n",
       "  <thead>\n",
       "    <tr style=\"text-align: right;\">\n",
       "      <th></th>\n",
       "      <th>Gender</th>\n",
       "      <th>Age</th>\n",
       "      <th>Height</th>\n",
       "      <th>Weight</th>\n",
       "      <th>family_history</th>\n",
       "      <th>FAVC</th>\n",
       "      <th>FCVC</th>\n",
       "      <th>NCP</th>\n",
       "      <th>CAEC</th>\n",
       "      <th>SMOKE</th>\n",
       "      <th>CH2O</th>\n",
       "      <th>SCC</th>\n",
       "      <th>FAF</th>\n",
       "      <th>TUE</th>\n",
       "      <th>CALC</th>\n",
       "      <th>MTRANS</th>\n",
       "      <th>target</th>\n",
       "    </tr>\n",
       "  </thead>\n",
       "  <tbody>\n",
       "    <tr>\n",
       "      <th>0</th>\n",
       "      <td>0</td>\n",
       "      <td>21.0</td>\n",
       "      <td>1.62</td>\n",
       "      <td>64.0</td>\n",
       "      <td>1</td>\n",
       "      <td>0</td>\n",
       "      <td>2.0</td>\n",
       "      <td>3.0</td>\n",
       "      <td>2</td>\n",
       "      <td>0</td>\n",
       "      <td>2.0</td>\n",
       "      <td>0</td>\n",
       "      <td>0.0</td>\n",
       "      <td>1.0</td>\n",
       "      <td>3</td>\n",
       "      <td>3</td>\n",
       "      <td>1</td>\n",
       "    </tr>\n",
       "    <tr>\n",
       "      <th>1</th>\n",
       "      <td>0</td>\n",
       "      <td>21.0</td>\n",
       "      <td>1.52</td>\n",
       "      <td>56.0</td>\n",
       "      <td>1</td>\n",
       "      <td>0</td>\n",
       "      <td>3.0</td>\n",
       "      <td>3.0</td>\n",
       "      <td>2</td>\n",
       "      <td>1</td>\n",
       "      <td>3.0</td>\n",
       "      <td>1</td>\n",
       "      <td>3.0</td>\n",
       "      <td>0.0</td>\n",
       "      <td>2</td>\n",
       "      <td>3</td>\n",
       "      <td>1</td>\n",
       "    </tr>\n",
       "    <tr>\n",
       "      <th>2</th>\n",
       "      <td>1</td>\n",
       "      <td>23.0</td>\n",
       "      <td>1.80</td>\n",
       "      <td>77.0</td>\n",
       "      <td>1</td>\n",
       "      <td>0</td>\n",
       "      <td>2.0</td>\n",
       "      <td>3.0</td>\n",
       "      <td>2</td>\n",
       "      <td>0</td>\n",
       "      <td>2.0</td>\n",
       "      <td>0</td>\n",
       "      <td>2.0</td>\n",
       "      <td>1.0</td>\n",
       "      <td>1</td>\n",
       "      <td>3</td>\n",
       "      <td>1</td>\n",
       "    </tr>\n",
       "    <tr>\n",
       "      <th>3</th>\n",
       "      <td>1</td>\n",
       "      <td>27.0</td>\n",
       "      <td>1.80</td>\n",
       "      <td>87.0</td>\n",
       "      <td>0</td>\n",
       "      <td>0</td>\n",
       "      <td>3.0</td>\n",
       "      <td>3.0</td>\n",
       "      <td>2</td>\n",
       "      <td>0</td>\n",
       "      <td>2.0</td>\n",
       "      <td>0</td>\n",
       "      <td>2.0</td>\n",
       "      <td>0.0</td>\n",
       "      <td>1</td>\n",
       "      <td>4</td>\n",
       "      <td>2</td>\n",
       "    </tr>\n",
       "    <tr>\n",
       "      <th>4</th>\n",
       "      <td>1</td>\n",
       "      <td>22.0</td>\n",
       "      <td>1.78</td>\n",
       "      <td>89.8</td>\n",
       "      <td>0</td>\n",
       "      <td>0</td>\n",
       "      <td>2.0</td>\n",
       "      <td>1.0</td>\n",
       "      <td>2</td>\n",
       "      <td>0</td>\n",
       "      <td>2.0</td>\n",
       "      <td>0</td>\n",
       "      <td>0.0</td>\n",
       "      <td>0.0</td>\n",
       "      <td>2</td>\n",
       "      <td>3</td>\n",
       "      <td>3</td>\n",
       "    </tr>\n",
       "  </tbody>\n",
       "</table>\n",
       "</div>"
      ],
      "text/plain": [
       "   Gender   Age  Height  Weight  family_history  FAVC  FCVC  NCP  CAEC  SMOKE  \\\n",
       "0       0  21.0    1.62    64.0               1     0   2.0  3.0     2      0   \n",
       "1       0  21.0    1.52    56.0               1     0   3.0  3.0     2      1   \n",
       "2       1  23.0    1.80    77.0               1     0   2.0  3.0     2      0   \n",
       "3       1  27.0    1.80    87.0               0     0   3.0  3.0     2      0   \n",
       "4       1  22.0    1.78    89.8               0     0   2.0  1.0     2      0   \n",
       "\n",
       "   CH2O  SCC  FAF  TUE  CALC  MTRANS  target  \n",
       "0   2.0    0  0.0  1.0     3       3       1  \n",
       "1   3.0    1  3.0  0.0     2       3       1  \n",
       "2   2.0    0  2.0  1.0     1       3       1  \n",
       "3   2.0    0  2.0  0.0     1       4       2  \n",
       "4   2.0    0  0.0  0.0     2       3       3  "
      ]
     },
     "execution_count": 47,
     "metadata": {},
     "output_type": "execute_result"
    }
   ],
   "source": [
    "df.head()"
   ]
  },
  {
   "cell_type": "markdown",
   "id": "0fea90b1",
   "metadata": {
    "papermill": {
     "duration": 0.011809,
     "end_time": "2025-03-30T11:27:38.910649",
     "exception": false,
     "start_time": "2025-03-30T11:27:38.898840",
     "status": "completed"
    },
    "tags": []
   },
   "source": [
    "## Sixth Step: ***Building the model***"
   ]
  },
  {
   "cell_type": "code",
   "execution_count": 48,
   "id": "679e7861",
   "metadata": {
    "execution": {
     "iopub.execute_input": "2025-03-30T11:27:38.936985Z",
     "iopub.status.busy": "2025-03-30T11:27:38.936588Z",
     "iopub.status.idle": "2025-03-30T11:27:39.170200Z",
     "shell.execute_reply": "2025-03-30T11:27:39.169063Z"
    },
    "papermill": {
     "duration": 0.249436,
     "end_time": "2025-03-30T11:27:39.172311",
     "exception": false,
     "start_time": "2025-03-30T11:27:38.922875",
     "status": "completed"
    },
    "tags": []
   },
   "outputs": [],
   "source": [
    "from sklearn.model_selection import train_test_split\n",
    "y = df['target']\n",
    "X = df.drop('target', axis=1)\n",
    "\n"
   ]
  },
  {
   "cell_type": "code",
   "execution_count": 49,
   "id": "bf909a83",
   "metadata": {
    "execution": {
     "iopub.execute_input": "2025-03-30T11:27:39.201306Z",
     "iopub.status.busy": "2025-03-30T11:27:39.200870Z",
     "iopub.status.idle": "2025-03-30T11:27:39.209887Z",
     "shell.execute_reply": "2025-03-30T11:27:39.208789Z"
    },
    "papermill": {
     "duration": 0.025952,
     "end_time": "2025-03-30T11:27:39.211593",
     "exception": false,
     "start_time": "2025-03-30T11:27:39.185641",
     "status": "completed"
    },
    "tags": []
   },
   "outputs": [
    {
     "name": "stdout",
     "output_type": "stream",
     "text": [
      "(1669, 16)\n",
      "(418, 16)\n"
     ]
    }
   ],
   "source": [
    "X_train, X_test, y_train, y_test = train_test_split(X, y, test_size=0.2, random_state=32)\n",
    "print(X_train.shape)\n",
    "print(X_test.shape)"
   ]
  },
  {
   "cell_type": "code",
   "execution_count": 50,
   "id": "ac52ad0c",
   "metadata": {
    "execution": {
     "iopub.execute_input": "2025-03-30T11:27:39.237553Z",
     "iopub.status.busy": "2025-03-30T11:27:39.237171Z",
     "iopub.status.idle": "2025-03-30T11:28:03.592835Z",
     "shell.execute_reply": "2025-03-30T11:28:03.591653Z"
    },
    "papermill": {
     "duration": 24.370775,
     "end_time": "2025-03-30T11:28:03.594728",
     "exception": false,
     "start_time": "2025-03-30T11:27:39.223953",
     "status": "completed"
    },
    "tags": []
   },
   "outputs": [
    {
     "data": {
      "text/html": [
       "<style>#sk-container-id-1 {\n",
       "  /* Definition of color scheme common for light and dark mode */\n",
       "  --sklearn-color-text: black;\n",
       "  --sklearn-color-line: gray;\n",
       "  /* Definition of color scheme for unfitted estimators */\n",
       "  --sklearn-color-unfitted-level-0: #fff5e6;\n",
       "  --sklearn-color-unfitted-level-1: #f6e4d2;\n",
       "  --sklearn-color-unfitted-level-2: #ffe0b3;\n",
       "  --sklearn-color-unfitted-level-3: chocolate;\n",
       "  /* Definition of color scheme for fitted estimators */\n",
       "  --sklearn-color-fitted-level-0: #f0f8ff;\n",
       "  --sklearn-color-fitted-level-1: #d4ebff;\n",
       "  --sklearn-color-fitted-level-2: #b3dbfd;\n",
       "  --sklearn-color-fitted-level-3: cornflowerblue;\n",
       "\n",
       "  /* Specific color for light theme */\n",
       "  --sklearn-color-text-on-default-background: var(--sg-text-color, var(--theme-code-foreground, var(--jp-content-font-color1, black)));\n",
       "  --sklearn-color-background: var(--sg-background-color, var(--theme-background, var(--jp-layout-color0, white)));\n",
       "  --sklearn-color-border-box: var(--sg-text-color, var(--theme-code-foreground, var(--jp-content-font-color1, black)));\n",
       "  --sklearn-color-icon: #696969;\n",
       "\n",
       "  @media (prefers-color-scheme: dark) {\n",
       "    /* Redefinition of color scheme for dark theme */\n",
       "    --sklearn-color-text-on-default-background: var(--sg-text-color, var(--theme-code-foreground, var(--jp-content-font-color1, white)));\n",
       "    --sklearn-color-background: var(--sg-background-color, var(--theme-background, var(--jp-layout-color0, #111)));\n",
       "    --sklearn-color-border-box: var(--sg-text-color, var(--theme-code-foreground, var(--jp-content-font-color1, white)));\n",
       "    --sklearn-color-icon: #878787;\n",
       "  }\n",
       "}\n",
       "\n",
       "#sk-container-id-1 {\n",
       "  color: var(--sklearn-color-text);\n",
       "}\n",
       "\n",
       "#sk-container-id-1 pre {\n",
       "  padding: 0;\n",
       "}\n",
       "\n",
       "#sk-container-id-1 input.sk-hidden--visually {\n",
       "  border: 0;\n",
       "  clip: rect(1px 1px 1px 1px);\n",
       "  clip: rect(1px, 1px, 1px, 1px);\n",
       "  height: 1px;\n",
       "  margin: -1px;\n",
       "  overflow: hidden;\n",
       "  padding: 0;\n",
       "  position: absolute;\n",
       "  width: 1px;\n",
       "}\n",
       "\n",
       "#sk-container-id-1 div.sk-dashed-wrapped {\n",
       "  border: 1px dashed var(--sklearn-color-line);\n",
       "  margin: 0 0.4em 0.5em 0.4em;\n",
       "  box-sizing: border-box;\n",
       "  padding-bottom: 0.4em;\n",
       "  background-color: var(--sklearn-color-background);\n",
       "}\n",
       "\n",
       "#sk-container-id-1 div.sk-container {\n",
       "  /* jupyter's `normalize.less` sets `[hidden] { display: none; }`\n",
       "     but bootstrap.min.css set `[hidden] { display: none !important; }`\n",
       "     so we also need the `!important` here to be able to override the\n",
       "     default hidden behavior on the sphinx rendered scikit-learn.org.\n",
       "     See: https://github.com/scikit-learn/scikit-learn/issues/21755 */\n",
       "  display: inline-block !important;\n",
       "  position: relative;\n",
       "}\n",
       "\n",
       "#sk-container-id-1 div.sk-text-repr-fallback {\n",
       "  display: none;\n",
       "}\n",
       "\n",
       "div.sk-parallel-item,\n",
       "div.sk-serial,\n",
       "div.sk-item {\n",
       "  /* draw centered vertical line to link estimators */\n",
       "  background-image: linear-gradient(var(--sklearn-color-text-on-default-background), var(--sklearn-color-text-on-default-background));\n",
       "  background-size: 2px 100%;\n",
       "  background-repeat: no-repeat;\n",
       "  background-position: center center;\n",
       "}\n",
       "\n",
       "/* Parallel-specific style estimator block */\n",
       "\n",
       "#sk-container-id-1 div.sk-parallel-item::after {\n",
       "  content: \"\";\n",
       "  width: 100%;\n",
       "  border-bottom: 2px solid var(--sklearn-color-text-on-default-background);\n",
       "  flex-grow: 1;\n",
       "}\n",
       "\n",
       "#sk-container-id-1 div.sk-parallel {\n",
       "  display: flex;\n",
       "  align-items: stretch;\n",
       "  justify-content: center;\n",
       "  background-color: var(--sklearn-color-background);\n",
       "  position: relative;\n",
       "}\n",
       "\n",
       "#sk-container-id-1 div.sk-parallel-item {\n",
       "  display: flex;\n",
       "  flex-direction: column;\n",
       "}\n",
       "\n",
       "#sk-container-id-1 div.sk-parallel-item:first-child::after {\n",
       "  align-self: flex-end;\n",
       "  width: 50%;\n",
       "}\n",
       "\n",
       "#sk-container-id-1 div.sk-parallel-item:last-child::after {\n",
       "  align-self: flex-start;\n",
       "  width: 50%;\n",
       "}\n",
       "\n",
       "#sk-container-id-1 div.sk-parallel-item:only-child::after {\n",
       "  width: 0;\n",
       "}\n",
       "\n",
       "/* Serial-specific style estimator block */\n",
       "\n",
       "#sk-container-id-1 div.sk-serial {\n",
       "  display: flex;\n",
       "  flex-direction: column;\n",
       "  align-items: center;\n",
       "  background-color: var(--sklearn-color-background);\n",
       "  padding-right: 1em;\n",
       "  padding-left: 1em;\n",
       "}\n",
       "\n",
       "\n",
       "/* Toggleable style: style used for estimator/Pipeline/ColumnTransformer box that is\n",
       "clickable and can be expanded/collapsed.\n",
       "- Pipeline and ColumnTransformer use this feature and define the default style\n",
       "- Estimators will overwrite some part of the style using the `sk-estimator` class\n",
       "*/\n",
       "\n",
       "/* Pipeline and ColumnTransformer style (default) */\n",
       "\n",
       "#sk-container-id-1 div.sk-toggleable {\n",
       "  /* Default theme specific background. It is overwritten whether we have a\n",
       "  specific estimator or a Pipeline/ColumnTransformer */\n",
       "  background-color: var(--sklearn-color-background);\n",
       "}\n",
       "\n",
       "/* Toggleable label */\n",
       "#sk-container-id-1 label.sk-toggleable__label {\n",
       "  cursor: pointer;\n",
       "  display: block;\n",
       "  width: 100%;\n",
       "  margin-bottom: 0;\n",
       "  padding: 0.5em;\n",
       "  box-sizing: border-box;\n",
       "  text-align: center;\n",
       "}\n",
       "\n",
       "#sk-container-id-1 label.sk-toggleable__label-arrow:before {\n",
       "  /* Arrow on the left of the label */\n",
       "  content: \"▸\";\n",
       "  float: left;\n",
       "  margin-right: 0.25em;\n",
       "  color: var(--sklearn-color-icon);\n",
       "}\n",
       "\n",
       "#sk-container-id-1 label.sk-toggleable__label-arrow:hover:before {\n",
       "  color: var(--sklearn-color-text);\n",
       "}\n",
       "\n",
       "/* Toggleable content - dropdown */\n",
       "\n",
       "#sk-container-id-1 div.sk-toggleable__content {\n",
       "  max-height: 0;\n",
       "  max-width: 0;\n",
       "  overflow: hidden;\n",
       "  text-align: left;\n",
       "  /* unfitted */\n",
       "  background-color: var(--sklearn-color-unfitted-level-0);\n",
       "}\n",
       "\n",
       "#sk-container-id-1 div.sk-toggleable__content.fitted {\n",
       "  /* fitted */\n",
       "  background-color: var(--sklearn-color-fitted-level-0);\n",
       "}\n",
       "\n",
       "#sk-container-id-1 div.sk-toggleable__content pre {\n",
       "  margin: 0.2em;\n",
       "  border-radius: 0.25em;\n",
       "  color: var(--sklearn-color-text);\n",
       "  /* unfitted */\n",
       "  background-color: var(--sklearn-color-unfitted-level-0);\n",
       "}\n",
       "\n",
       "#sk-container-id-1 div.sk-toggleable__content.fitted pre {\n",
       "  /* unfitted */\n",
       "  background-color: var(--sklearn-color-fitted-level-0);\n",
       "}\n",
       "\n",
       "#sk-container-id-1 input.sk-toggleable__control:checked~div.sk-toggleable__content {\n",
       "  /* Expand drop-down */\n",
       "  max-height: 200px;\n",
       "  max-width: 100%;\n",
       "  overflow: auto;\n",
       "}\n",
       "\n",
       "#sk-container-id-1 input.sk-toggleable__control:checked~label.sk-toggleable__label-arrow:before {\n",
       "  content: \"▾\";\n",
       "}\n",
       "\n",
       "/* Pipeline/ColumnTransformer-specific style */\n",
       "\n",
       "#sk-container-id-1 div.sk-label input.sk-toggleable__control:checked~label.sk-toggleable__label {\n",
       "  color: var(--sklearn-color-text);\n",
       "  background-color: var(--sklearn-color-unfitted-level-2);\n",
       "}\n",
       "\n",
       "#sk-container-id-1 div.sk-label.fitted input.sk-toggleable__control:checked~label.sk-toggleable__label {\n",
       "  background-color: var(--sklearn-color-fitted-level-2);\n",
       "}\n",
       "\n",
       "/* Estimator-specific style */\n",
       "\n",
       "/* Colorize estimator box */\n",
       "#sk-container-id-1 div.sk-estimator input.sk-toggleable__control:checked~label.sk-toggleable__label {\n",
       "  /* unfitted */\n",
       "  background-color: var(--sklearn-color-unfitted-level-2);\n",
       "}\n",
       "\n",
       "#sk-container-id-1 div.sk-estimator.fitted input.sk-toggleable__control:checked~label.sk-toggleable__label {\n",
       "  /* fitted */\n",
       "  background-color: var(--sklearn-color-fitted-level-2);\n",
       "}\n",
       "\n",
       "#sk-container-id-1 div.sk-label label.sk-toggleable__label,\n",
       "#sk-container-id-1 div.sk-label label {\n",
       "  /* The background is the default theme color */\n",
       "  color: var(--sklearn-color-text-on-default-background);\n",
       "}\n",
       "\n",
       "/* On hover, darken the color of the background */\n",
       "#sk-container-id-1 div.sk-label:hover label.sk-toggleable__label {\n",
       "  color: var(--sklearn-color-text);\n",
       "  background-color: var(--sklearn-color-unfitted-level-2);\n",
       "}\n",
       "\n",
       "/* Label box, darken color on hover, fitted */\n",
       "#sk-container-id-1 div.sk-label.fitted:hover label.sk-toggleable__label.fitted {\n",
       "  color: var(--sklearn-color-text);\n",
       "  background-color: var(--sklearn-color-fitted-level-2);\n",
       "}\n",
       "\n",
       "/* Estimator label */\n",
       "\n",
       "#sk-container-id-1 div.sk-label label {\n",
       "  font-family: monospace;\n",
       "  font-weight: bold;\n",
       "  display: inline-block;\n",
       "  line-height: 1.2em;\n",
       "}\n",
       "\n",
       "#sk-container-id-1 div.sk-label-container {\n",
       "  text-align: center;\n",
       "}\n",
       "\n",
       "/* Estimator-specific */\n",
       "#sk-container-id-1 div.sk-estimator {\n",
       "  font-family: monospace;\n",
       "  border: 1px dotted var(--sklearn-color-border-box);\n",
       "  border-radius: 0.25em;\n",
       "  box-sizing: border-box;\n",
       "  margin-bottom: 0.5em;\n",
       "  /* unfitted */\n",
       "  background-color: var(--sklearn-color-unfitted-level-0);\n",
       "}\n",
       "\n",
       "#sk-container-id-1 div.sk-estimator.fitted {\n",
       "  /* fitted */\n",
       "  background-color: var(--sklearn-color-fitted-level-0);\n",
       "}\n",
       "\n",
       "/* on hover */\n",
       "#sk-container-id-1 div.sk-estimator:hover {\n",
       "  /* unfitted */\n",
       "  background-color: var(--sklearn-color-unfitted-level-2);\n",
       "}\n",
       "\n",
       "#sk-container-id-1 div.sk-estimator.fitted:hover {\n",
       "  /* fitted */\n",
       "  background-color: var(--sklearn-color-fitted-level-2);\n",
       "}\n",
       "\n",
       "/* Specification for estimator info (e.g. \"i\" and \"?\") */\n",
       "\n",
       "/* Common style for \"i\" and \"?\" */\n",
       "\n",
       ".sk-estimator-doc-link,\n",
       "a:link.sk-estimator-doc-link,\n",
       "a:visited.sk-estimator-doc-link {\n",
       "  float: right;\n",
       "  font-size: smaller;\n",
       "  line-height: 1em;\n",
       "  font-family: monospace;\n",
       "  background-color: var(--sklearn-color-background);\n",
       "  border-radius: 1em;\n",
       "  height: 1em;\n",
       "  width: 1em;\n",
       "  text-decoration: none !important;\n",
       "  margin-left: 1ex;\n",
       "  /* unfitted */\n",
       "  border: var(--sklearn-color-unfitted-level-1) 1pt solid;\n",
       "  color: var(--sklearn-color-unfitted-level-1);\n",
       "}\n",
       "\n",
       ".sk-estimator-doc-link.fitted,\n",
       "a:link.sk-estimator-doc-link.fitted,\n",
       "a:visited.sk-estimator-doc-link.fitted {\n",
       "  /* fitted */\n",
       "  border: var(--sklearn-color-fitted-level-1) 1pt solid;\n",
       "  color: var(--sklearn-color-fitted-level-1);\n",
       "}\n",
       "\n",
       "/* On hover */\n",
       "div.sk-estimator:hover .sk-estimator-doc-link:hover,\n",
       ".sk-estimator-doc-link:hover,\n",
       "div.sk-label-container:hover .sk-estimator-doc-link:hover,\n",
       ".sk-estimator-doc-link:hover {\n",
       "  /* unfitted */\n",
       "  background-color: var(--sklearn-color-unfitted-level-3);\n",
       "  color: var(--sklearn-color-background);\n",
       "  text-decoration: none;\n",
       "}\n",
       "\n",
       "div.sk-estimator.fitted:hover .sk-estimator-doc-link.fitted:hover,\n",
       ".sk-estimator-doc-link.fitted:hover,\n",
       "div.sk-label-container:hover .sk-estimator-doc-link.fitted:hover,\n",
       ".sk-estimator-doc-link.fitted:hover {\n",
       "  /* fitted */\n",
       "  background-color: var(--sklearn-color-fitted-level-3);\n",
       "  color: var(--sklearn-color-background);\n",
       "  text-decoration: none;\n",
       "}\n",
       "\n",
       "/* Span, style for the box shown on hovering the info icon */\n",
       ".sk-estimator-doc-link span {\n",
       "  display: none;\n",
       "  z-index: 9999;\n",
       "  position: relative;\n",
       "  font-weight: normal;\n",
       "  right: .2ex;\n",
       "  padding: .5ex;\n",
       "  margin: .5ex;\n",
       "  width: min-content;\n",
       "  min-width: 20ex;\n",
       "  max-width: 50ex;\n",
       "  color: var(--sklearn-color-text);\n",
       "  box-shadow: 2pt 2pt 4pt #999;\n",
       "  /* unfitted */\n",
       "  background: var(--sklearn-color-unfitted-level-0);\n",
       "  border: .5pt solid var(--sklearn-color-unfitted-level-3);\n",
       "}\n",
       "\n",
       ".sk-estimator-doc-link.fitted span {\n",
       "  /* fitted */\n",
       "  background: var(--sklearn-color-fitted-level-0);\n",
       "  border: var(--sklearn-color-fitted-level-3);\n",
       "}\n",
       "\n",
       ".sk-estimator-doc-link:hover span {\n",
       "  display: block;\n",
       "}\n",
       "\n",
       "/* \"?\"-specific style due to the `<a>` HTML tag */\n",
       "\n",
       "#sk-container-id-1 a.estimator_doc_link {\n",
       "  float: right;\n",
       "  font-size: 1rem;\n",
       "  line-height: 1em;\n",
       "  font-family: monospace;\n",
       "  background-color: var(--sklearn-color-background);\n",
       "  border-radius: 1rem;\n",
       "  height: 1rem;\n",
       "  width: 1rem;\n",
       "  text-decoration: none;\n",
       "  /* unfitted */\n",
       "  color: var(--sklearn-color-unfitted-level-1);\n",
       "  border: var(--sklearn-color-unfitted-level-1) 1pt solid;\n",
       "}\n",
       "\n",
       "#sk-container-id-1 a.estimator_doc_link.fitted {\n",
       "  /* fitted */\n",
       "  border: var(--sklearn-color-fitted-level-1) 1pt solid;\n",
       "  color: var(--sklearn-color-fitted-level-1);\n",
       "}\n",
       "\n",
       "/* On hover */\n",
       "#sk-container-id-1 a.estimator_doc_link:hover {\n",
       "  /* unfitted */\n",
       "  background-color: var(--sklearn-color-unfitted-level-3);\n",
       "  color: var(--sklearn-color-background);\n",
       "  text-decoration: none;\n",
       "}\n",
       "\n",
       "#sk-container-id-1 a.estimator_doc_link.fitted:hover {\n",
       "  /* fitted */\n",
       "  background-color: var(--sklearn-color-fitted-level-3);\n",
       "}\n",
       "</style><div id=\"sk-container-id-1\" class=\"sk-top-container\"><div class=\"sk-text-repr-fallback\"><pre>RFECV(estimator=RandomForestClassifier(n_estimators=150),\n",
       "      min_features_to_select=4, n_jobs=-1)</pre><b>In a Jupyter environment, please rerun this cell to show the HTML representation or trust the notebook. <br />On GitHub, the HTML representation is unable to render, please try loading this page with nbviewer.org.</b></div><div class=\"sk-container\" hidden><div class=\"sk-item sk-dashed-wrapped\"><div class=\"sk-label-container\"><div class=\"sk-label fitted sk-toggleable\"><input class=\"sk-toggleable__control sk-hidden--visually\" id=\"sk-estimator-id-1\" type=\"checkbox\" ><label for=\"sk-estimator-id-1\" class=\"sk-toggleable__label fitted sk-toggleable__label-arrow fitted\">&nbsp;&nbsp;RFECV<a class=\"sk-estimator-doc-link fitted\" rel=\"noreferrer\" target=\"_blank\" href=\"https://scikit-learn.org/1.5/modules/generated/sklearn.feature_selection.RFECV.html\">?<span>Documentation for RFECV</span></a><span class=\"sk-estimator-doc-link fitted\">i<span>Fitted</span></span></label><div class=\"sk-toggleable__content fitted\"><pre>RFECV(estimator=RandomForestClassifier(n_estimators=150),\n",
       "      min_features_to_select=4, n_jobs=-1)</pre></div> </div></div><div class=\"sk-parallel\"><div class=\"sk-parallel-item\"><div class=\"sk-item\"><div class=\"sk-label-container\"><div class=\"sk-label fitted sk-toggleable\"><input class=\"sk-toggleable__control sk-hidden--visually\" id=\"sk-estimator-id-2\" type=\"checkbox\" ><label for=\"sk-estimator-id-2\" class=\"sk-toggleable__label fitted sk-toggleable__label-arrow fitted\">estimator: RandomForestClassifier</label><div class=\"sk-toggleable__content fitted\"><pre>RandomForestClassifier(n_estimators=150)</pre></div> </div></div><div class=\"sk-serial\"><div class=\"sk-item\"><div class=\"sk-estimator fitted sk-toggleable\"><input class=\"sk-toggleable__control sk-hidden--visually\" id=\"sk-estimator-id-3\" type=\"checkbox\" ><label for=\"sk-estimator-id-3\" class=\"sk-toggleable__label fitted sk-toggleable__label-arrow fitted\">&nbsp;RandomForestClassifier<a class=\"sk-estimator-doc-link fitted\" rel=\"noreferrer\" target=\"_blank\" href=\"https://scikit-learn.org/1.5/modules/generated/sklearn.ensemble.RandomForestClassifier.html\">?<span>Documentation for RandomForestClassifier</span></a></label><div class=\"sk-toggleable__content fitted\"><pre>RandomForestClassifier(n_estimators=150)</pre></div> </div></div></div></div></div></div></div></div></div>"
      ],
      "text/plain": [
       "RFECV(estimator=RandomForestClassifier(n_estimators=150),\n",
       "      min_features_to_select=4, n_jobs=-1)"
      ]
     },
     "execution_count": 50,
     "metadata": {},
     "output_type": "execute_result"
    }
   ],
   "source": [
    "from sklearn.ensemble import RandomForestClassifier\n",
    "from sklearn.feature_selection import RFECV\n",
    "\n",
    "model = RandomForestClassifier(n_estimators=150)\n",
    "rfecv = RFECV(model, step = 1, min_features_to_select= 4, n_jobs=-1)\n",
    "rfecv.fit(X_train, y_train)"
   ]
  },
  {
   "cell_type": "code",
   "execution_count": 51,
   "id": "3ad5d027",
   "metadata": {
    "execution": {
     "iopub.execute_input": "2025-03-30T11:28:03.622319Z",
     "iopub.status.busy": "2025-03-30T11:28:03.621897Z",
     "iopub.status.idle": "2025-03-30T11:28:03.628406Z",
     "shell.execute_reply": "2025-03-30T11:28:03.627406Z"
    },
    "papermill": {
     "duration": 0.022096,
     "end_time": "2025-03-30T11:28:03.630102",
     "exception": false,
     "start_time": "2025-03-30T11:28:03.608006",
     "status": "completed"
    },
    "tags": []
   },
   "outputs": [
    {
     "data": {
      "text/plain": [
       "array([False,  True,  True,  True, False, False,  True, False, False,\n",
       "       False, False, False, False, False, False, False])"
      ]
     },
     "execution_count": 51,
     "metadata": {},
     "output_type": "execute_result"
    }
   ],
   "source": [
    "rfecv.support_"
   ]
  },
  {
   "cell_type": "code",
   "execution_count": 52,
   "id": "ee3aa7f7",
   "metadata": {
    "execution": {
     "iopub.execute_input": "2025-03-30T11:28:03.658293Z",
     "iopub.status.busy": "2025-03-30T11:28:03.657900Z",
     "iopub.status.idle": "2025-03-30T11:28:03.664198Z",
     "shell.execute_reply": "2025-03-30T11:28:03.663149Z"
    },
    "papermill": {
     "duration": 0.022415,
     "end_time": "2025-03-30T11:28:03.665765",
     "exception": false,
     "start_time": "2025-03-30T11:28:03.643350",
     "status": "completed"
    },
    "tags": []
   },
   "outputs": [
    {
     "data": {
      "text/plain": [
       "Index(['Gender', 'Age', 'Height', 'Weight', 'family_history', 'FAVC', 'FCVC',\n",
       "       'NCP', 'CAEC', 'SMOKE', 'CH2O', 'SCC', 'FAF', 'TUE', 'CALC', 'MTRANS',\n",
       "       'target'],\n",
       "      dtype='object')"
      ]
     },
     "execution_count": 52,
     "metadata": {},
     "output_type": "execute_result"
    }
   ],
   "source": [
    "df.columns"
   ]
  },
  {
   "cell_type": "code",
   "execution_count": 53,
   "id": "e43099f3",
   "metadata": {
    "execution": {
     "iopub.execute_input": "2025-03-30T11:28:03.693528Z",
     "iopub.status.busy": "2025-03-30T11:28:03.693180Z",
     "iopub.status.idle": "2025-03-30T11:28:03.706352Z",
     "shell.execute_reply": "2025-03-30T11:28:03.705172Z"
    },
    "papermill": {
     "duration": 0.028797,
     "end_time": "2025-03-30T11:28:03.708094",
     "exception": false,
     "start_time": "2025-03-30T11:28:03.679297",
     "status": "completed"
    },
    "tags": []
   },
   "outputs": [
    {
     "data": {
      "application/vnd.microsoft.datawrangler.viewer.v0+json": {
       "columns": [
        {
         "name": "index",
         "rawType": "int64",
         "type": "integer"
        },
        {
         "name": "column",
         "rawType": "object",
         "type": "string"
        },
        {
         "name": "Selected?",
         "rawType": "bool",
         "type": "boolean"
        }
       ],
       "conversionMethod": "pd.DataFrame",
       "ref": "b473b3f9-cc86-47a6-a3ae-7a0923ada9c1",
       "rows": [
        [
         "0",
         "Gender",
         "False"
        ],
        [
         "1",
         "Age",
         "True"
        ],
        [
         "2",
         "Height",
         "True"
        ],
        [
         "3",
         "Weight",
         "True"
        ],
        [
         "4",
         "family_history",
         "False"
        ],
        [
         "5",
         "FAVC",
         "False"
        ],
        [
         "6",
         "FCVC",
         "True"
        ],
        [
         "7",
         "NCP",
         "False"
        ],
        [
         "8",
         "CAEC",
         "False"
        ],
        [
         "9",
         "SMOKE",
         "False"
        ],
        [
         "10",
         "CH2O",
         "False"
        ],
        [
         "11",
         "SCC",
         "False"
        ],
        [
         "12",
         "FAF",
         "False"
        ],
        [
         "13",
         "TUE",
         "False"
        ],
        [
         "14",
         "CALC",
         "False"
        ],
        [
         "15",
         "MTRANS",
         "False"
        ]
       ],
       "shape": {
        "columns": 2,
        "rows": 16
       }
      },
      "text/html": [
       "<div>\n",
       "<style scoped>\n",
       "    .dataframe tbody tr th:only-of-type {\n",
       "        vertical-align: middle;\n",
       "    }\n",
       "\n",
       "    .dataframe tbody tr th {\n",
       "        vertical-align: top;\n",
       "    }\n",
       "\n",
       "    .dataframe thead th {\n",
       "        text-align: right;\n",
       "    }\n",
       "</style>\n",
       "<table border=\"1\" class=\"dataframe\">\n",
       "  <thead>\n",
       "    <tr style=\"text-align: right;\">\n",
       "      <th></th>\n",
       "      <th>column</th>\n",
       "      <th>Selected?</th>\n",
       "    </tr>\n",
       "  </thead>\n",
       "  <tbody>\n",
       "    <tr>\n",
       "      <th>0</th>\n",
       "      <td>Gender</td>\n",
       "      <td>False</td>\n",
       "    </tr>\n",
       "    <tr>\n",
       "      <th>1</th>\n",
       "      <td>Age</td>\n",
       "      <td>True</td>\n",
       "    </tr>\n",
       "    <tr>\n",
       "      <th>2</th>\n",
       "      <td>Height</td>\n",
       "      <td>True</td>\n",
       "    </tr>\n",
       "    <tr>\n",
       "      <th>3</th>\n",
       "      <td>Weight</td>\n",
       "      <td>True</td>\n",
       "    </tr>\n",
       "    <tr>\n",
       "      <th>4</th>\n",
       "      <td>family_history</td>\n",
       "      <td>False</td>\n",
       "    </tr>\n",
       "    <tr>\n",
       "      <th>5</th>\n",
       "      <td>FAVC</td>\n",
       "      <td>False</td>\n",
       "    </tr>\n",
       "    <tr>\n",
       "      <th>6</th>\n",
       "      <td>FCVC</td>\n",
       "      <td>True</td>\n",
       "    </tr>\n",
       "    <tr>\n",
       "      <th>7</th>\n",
       "      <td>NCP</td>\n",
       "      <td>False</td>\n",
       "    </tr>\n",
       "    <tr>\n",
       "      <th>8</th>\n",
       "      <td>CAEC</td>\n",
       "      <td>False</td>\n",
       "    </tr>\n",
       "    <tr>\n",
       "      <th>9</th>\n",
       "      <td>SMOKE</td>\n",
       "      <td>False</td>\n",
       "    </tr>\n",
       "    <tr>\n",
       "      <th>10</th>\n",
       "      <td>CH2O</td>\n",
       "      <td>False</td>\n",
       "    </tr>\n",
       "    <tr>\n",
       "      <th>11</th>\n",
       "      <td>SCC</td>\n",
       "      <td>False</td>\n",
       "    </tr>\n",
       "    <tr>\n",
       "      <th>12</th>\n",
       "      <td>FAF</td>\n",
       "      <td>False</td>\n",
       "    </tr>\n",
       "    <tr>\n",
       "      <th>13</th>\n",
       "      <td>TUE</td>\n",
       "      <td>False</td>\n",
       "    </tr>\n",
       "    <tr>\n",
       "      <th>14</th>\n",
       "      <td>CALC</td>\n",
       "      <td>False</td>\n",
       "    </tr>\n",
       "    <tr>\n",
       "      <th>15</th>\n",
       "      <td>MTRANS</td>\n",
       "      <td>False</td>\n",
       "    </tr>\n",
       "  </tbody>\n",
       "</table>\n",
       "</div>"
      ],
      "text/plain": [
       "            column  Selected?\n",
       "0           Gender      False\n",
       "1              Age       True\n",
       "2           Height       True\n",
       "3           Weight       True\n",
       "4   family_history      False\n",
       "5             FAVC      False\n",
       "6             FCVC       True\n",
       "7              NCP      False\n",
       "8             CAEC      False\n",
       "9            SMOKE      False\n",
       "10            CH2O      False\n",
       "11             SCC      False\n",
       "12             FAF      False\n",
       "13             TUE      False\n",
       "14            CALC      False\n",
       "15          MTRANS      False"
      ]
     },
     "execution_count": 53,
     "metadata": {},
     "output_type": "execute_result"
    }
   ],
   "source": [
    "selected_features = pd.DataFrame({'column' : X_train.columns, 'Selected?' : rfecv.support_})\n",
    "selected_features"
   ]
  },
  {
   "cell_type": "code",
   "execution_count": 54,
   "id": "11198c0b",
   "metadata": {
    "execution": {
     "iopub.execute_input": "2025-03-30T11:28:03.736175Z",
     "iopub.status.busy": "2025-03-30T11:28:03.735730Z",
     "iopub.status.idle": "2025-03-30T11:28:03.742003Z",
     "shell.execute_reply": "2025-03-30T11:28:03.740942Z"
    },
    "papermill": {
     "duration": 0.022192,
     "end_time": "2025-03-30T11:28:03.743639",
     "exception": false,
     "start_time": "2025-03-30T11:28:03.721447",
     "status": "completed"
    },
    "tags": []
   },
   "outputs": [],
   "source": [
    "selected = np.where(rfecv.support_)[0]\n",
    "X_train = X_train.iloc[:, selected]\n",
    "X_test = X_test.iloc[:, selected]"
   ]
  },
  {
   "cell_type": "code",
   "execution_count": 55,
   "id": "bc98cef9",
   "metadata": {
    "execution": {
     "iopub.execute_input": "2025-03-30T11:28:03.771569Z",
     "iopub.status.busy": "2025-03-30T11:28:03.771188Z",
     "iopub.status.idle": "2025-03-30T11:28:04.205126Z",
     "shell.execute_reply": "2025-03-30T11:28:04.204004Z"
    },
    "papermill": {
     "duration": 0.450042,
     "end_time": "2025-03-30T11:28:04.206885",
     "exception": false,
     "start_time": "2025-03-30T11:28:03.756843",
     "status": "completed"
    },
    "tags": []
   },
   "outputs": [
    {
     "data": {
      "text/html": [
       "<style>#sk-container-id-2 {\n",
       "  /* Definition of color scheme common for light and dark mode */\n",
       "  --sklearn-color-text: black;\n",
       "  --sklearn-color-line: gray;\n",
       "  /* Definition of color scheme for unfitted estimators */\n",
       "  --sklearn-color-unfitted-level-0: #fff5e6;\n",
       "  --sklearn-color-unfitted-level-1: #f6e4d2;\n",
       "  --sklearn-color-unfitted-level-2: #ffe0b3;\n",
       "  --sklearn-color-unfitted-level-3: chocolate;\n",
       "  /* Definition of color scheme for fitted estimators */\n",
       "  --sklearn-color-fitted-level-0: #f0f8ff;\n",
       "  --sklearn-color-fitted-level-1: #d4ebff;\n",
       "  --sklearn-color-fitted-level-2: #b3dbfd;\n",
       "  --sklearn-color-fitted-level-3: cornflowerblue;\n",
       "\n",
       "  /* Specific color for light theme */\n",
       "  --sklearn-color-text-on-default-background: var(--sg-text-color, var(--theme-code-foreground, var(--jp-content-font-color1, black)));\n",
       "  --sklearn-color-background: var(--sg-background-color, var(--theme-background, var(--jp-layout-color0, white)));\n",
       "  --sklearn-color-border-box: var(--sg-text-color, var(--theme-code-foreground, var(--jp-content-font-color1, black)));\n",
       "  --sklearn-color-icon: #696969;\n",
       "\n",
       "  @media (prefers-color-scheme: dark) {\n",
       "    /* Redefinition of color scheme for dark theme */\n",
       "    --sklearn-color-text-on-default-background: var(--sg-text-color, var(--theme-code-foreground, var(--jp-content-font-color1, white)));\n",
       "    --sklearn-color-background: var(--sg-background-color, var(--theme-background, var(--jp-layout-color0, #111)));\n",
       "    --sklearn-color-border-box: var(--sg-text-color, var(--theme-code-foreground, var(--jp-content-font-color1, white)));\n",
       "    --sklearn-color-icon: #878787;\n",
       "  }\n",
       "}\n",
       "\n",
       "#sk-container-id-2 {\n",
       "  color: var(--sklearn-color-text);\n",
       "}\n",
       "\n",
       "#sk-container-id-2 pre {\n",
       "  padding: 0;\n",
       "}\n",
       "\n",
       "#sk-container-id-2 input.sk-hidden--visually {\n",
       "  border: 0;\n",
       "  clip: rect(1px 1px 1px 1px);\n",
       "  clip: rect(1px, 1px, 1px, 1px);\n",
       "  height: 1px;\n",
       "  margin: -1px;\n",
       "  overflow: hidden;\n",
       "  padding: 0;\n",
       "  position: absolute;\n",
       "  width: 1px;\n",
       "}\n",
       "\n",
       "#sk-container-id-2 div.sk-dashed-wrapped {\n",
       "  border: 1px dashed var(--sklearn-color-line);\n",
       "  margin: 0 0.4em 0.5em 0.4em;\n",
       "  box-sizing: border-box;\n",
       "  padding-bottom: 0.4em;\n",
       "  background-color: var(--sklearn-color-background);\n",
       "}\n",
       "\n",
       "#sk-container-id-2 div.sk-container {\n",
       "  /* jupyter's `normalize.less` sets `[hidden] { display: none; }`\n",
       "     but bootstrap.min.css set `[hidden] { display: none !important; }`\n",
       "     so we also need the `!important` here to be able to override the\n",
       "     default hidden behavior on the sphinx rendered scikit-learn.org.\n",
       "     See: https://github.com/scikit-learn/scikit-learn/issues/21755 */\n",
       "  display: inline-block !important;\n",
       "  position: relative;\n",
       "}\n",
       "\n",
       "#sk-container-id-2 div.sk-text-repr-fallback {\n",
       "  display: none;\n",
       "}\n",
       "\n",
       "div.sk-parallel-item,\n",
       "div.sk-serial,\n",
       "div.sk-item {\n",
       "  /* draw centered vertical line to link estimators */\n",
       "  background-image: linear-gradient(var(--sklearn-color-text-on-default-background), var(--sklearn-color-text-on-default-background));\n",
       "  background-size: 2px 100%;\n",
       "  background-repeat: no-repeat;\n",
       "  background-position: center center;\n",
       "}\n",
       "\n",
       "/* Parallel-specific style estimator block */\n",
       "\n",
       "#sk-container-id-2 div.sk-parallel-item::after {\n",
       "  content: \"\";\n",
       "  width: 100%;\n",
       "  border-bottom: 2px solid var(--sklearn-color-text-on-default-background);\n",
       "  flex-grow: 1;\n",
       "}\n",
       "\n",
       "#sk-container-id-2 div.sk-parallel {\n",
       "  display: flex;\n",
       "  align-items: stretch;\n",
       "  justify-content: center;\n",
       "  background-color: var(--sklearn-color-background);\n",
       "  position: relative;\n",
       "}\n",
       "\n",
       "#sk-container-id-2 div.sk-parallel-item {\n",
       "  display: flex;\n",
       "  flex-direction: column;\n",
       "}\n",
       "\n",
       "#sk-container-id-2 div.sk-parallel-item:first-child::after {\n",
       "  align-self: flex-end;\n",
       "  width: 50%;\n",
       "}\n",
       "\n",
       "#sk-container-id-2 div.sk-parallel-item:last-child::after {\n",
       "  align-self: flex-start;\n",
       "  width: 50%;\n",
       "}\n",
       "\n",
       "#sk-container-id-2 div.sk-parallel-item:only-child::after {\n",
       "  width: 0;\n",
       "}\n",
       "\n",
       "/* Serial-specific style estimator block */\n",
       "\n",
       "#sk-container-id-2 div.sk-serial {\n",
       "  display: flex;\n",
       "  flex-direction: column;\n",
       "  align-items: center;\n",
       "  background-color: var(--sklearn-color-background);\n",
       "  padding-right: 1em;\n",
       "  padding-left: 1em;\n",
       "}\n",
       "\n",
       "\n",
       "/* Toggleable style: style used for estimator/Pipeline/ColumnTransformer box that is\n",
       "clickable and can be expanded/collapsed.\n",
       "- Pipeline and ColumnTransformer use this feature and define the default style\n",
       "- Estimators will overwrite some part of the style using the `sk-estimator` class\n",
       "*/\n",
       "\n",
       "/* Pipeline and ColumnTransformer style (default) */\n",
       "\n",
       "#sk-container-id-2 div.sk-toggleable {\n",
       "  /* Default theme specific background. It is overwritten whether we have a\n",
       "  specific estimator or a Pipeline/ColumnTransformer */\n",
       "  background-color: var(--sklearn-color-background);\n",
       "}\n",
       "\n",
       "/* Toggleable label */\n",
       "#sk-container-id-2 label.sk-toggleable__label {\n",
       "  cursor: pointer;\n",
       "  display: block;\n",
       "  width: 100%;\n",
       "  margin-bottom: 0;\n",
       "  padding: 0.5em;\n",
       "  box-sizing: border-box;\n",
       "  text-align: center;\n",
       "}\n",
       "\n",
       "#sk-container-id-2 label.sk-toggleable__label-arrow:before {\n",
       "  /* Arrow on the left of the label */\n",
       "  content: \"▸\";\n",
       "  float: left;\n",
       "  margin-right: 0.25em;\n",
       "  color: var(--sklearn-color-icon);\n",
       "}\n",
       "\n",
       "#sk-container-id-2 label.sk-toggleable__label-arrow:hover:before {\n",
       "  color: var(--sklearn-color-text);\n",
       "}\n",
       "\n",
       "/* Toggleable content - dropdown */\n",
       "\n",
       "#sk-container-id-2 div.sk-toggleable__content {\n",
       "  max-height: 0;\n",
       "  max-width: 0;\n",
       "  overflow: hidden;\n",
       "  text-align: left;\n",
       "  /* unfitted */\n",
       "  background-color: var(--sklearn-color-unfitted-level-0);\n",
       "}\n",
       "\n",
       "#sk-container-id-2 div.sk-toggleable__content.fitted {\n",
       "  /* fitted */\n",
       "  background-color: var(--sklearn-color-fitted-level-0);\n",
       "}\n",
       "\n",
       "#sk-container-id-2 div.sk-toggleable__content pre {\n",
       "  margin: 0.2em;\n",
       "  border-radius: 0.25em;\n",
       "  color: var(--sklearn-color-text);\n",
       "  /* unfitted */\n",
       "  background-color: var(--sklearn-color-unfitted-level-0);\n",
       "}\n",
       "\n",
       "#sk-container-id-2 div.sk-toggleable__content.fitted pre {\n",
       "  /* unfitted */\n",
       "  background-color: var(--sklearn-color-fitted-level-0);\n",
       "}\n",
       "\n",
       "#sk-container-id-2 input.sk-toggleable__control:checked~div.sk-toggleable__content {\n",
       "  /* Expand drop-down */\n",
       "  max-height: 200px;\n",
       "  max-width: 100%;\n",
       "  overflow: auto;\n",
       "}\n",
       "\n",
       "#sk-container-id-2 input.sk-toggleable__control:checked~label.sk-toggleable__label-arrow:before {\n",
       "  content: \"▾\";\n",
       "}\n",
       "\n",
       "/* Pipeline/ColumnTransformer-specific style */\n",
       "\n",
       "#sk-container-id-2 div.sk-label input.sk-toggleable__control:checked~label.sk-toggleable__label {\n",
       "  color: var(--sklearn-color-text);\n",
       "  background-color: var(--sklearn-color-unfitted-level-2);\n",
       "}\n",
       "\n",
       "#sk-container-id-2 div.sk-label.fitted input.sk-toggleable__control:checked~label.sk-toggleable__label {\n",
       "  background-color: var(--sklearn-color-fitted-level-2);\n",
       "}\n",
       "\n",
       "/* Estimator-specific style */\n",
       "\n",
       "/* Colorize estimator box */\n",
       "#sk-container-id-2 div.sk-estimator input.sk-toggleable__control:checked~label.sk-toggleable__label {\n",
       "  /* unfitted */\n",
       "  background-color: var(--sklearn-color-unfitted-level-2);\n",
       "}\n",
       "\n",
       "#sk-container-id-2 div.sk-estimator.fitted input.sk-toggleable__control:checked~label.sk-toggleable__label {\n",
       "  /* fitted */\n",
       "  background-color: var(--sklearn-color-fitted-level-2);\n",
       "}\n",
       "\n",
       "#sk-container-id-2 div.sk-label label.sk-toggleable__label,\n",
       "#sk-container-id-2 div.sk-label label {\n",
       "  /* The background is the default theme color */\n",
       "  color: var(--sklearn-color-text-on-default-background);\n",
       "}\n",
       "\n",
       "/* On hover, darken the color of the background */\n",
       "#sk-container-id-2 div.sk-label:hover label.sk-toggleable__label {\n",
       "  color: var(--sklearn-color-text);\n",
       "  background-color: var(--sklearn-color-unfitted-level-2);\n",
       "}\n",
       "\n",
       "/* Label box, darken color on hover, fitted */\n",
       "#sk-container-id-2 div.sk-label.fitted:hover label.sk-toggleable__label.fitted {\n",
       "  color: var(--sklearn-color-text);\n",
       "  background-color: var(--sklearn-color-fitted-level-2);\n",
       "}\n",
       "\n",
       "/* Estimator label */\n",
       "\n",
       "#sk-container-id-2 div.sk-label label {\n",
       "  font-family: monospace;\n",
       "  font-weight: bold;\n",
       "  display: inline-block;\n",
       "  line-height: 1.2em;\n",
       "}\n",
       "\n",
       "#sk-container-id-2 div.sk-label-container {\n",
       "  text-align: center;\n",
       "}\n",
       "\n",
       "/* Estimator-specific */\n",
       "#sk-container-id-2 div.sk-estimator {\n",
       "  font-family: monospace;\n",
       "  border: 1px dotted var(--sklearn-color-border-box);\n",
       "  border-radius: 0.25em;\n",
       "  box-sizing: border-box;\n",
       "  margin-bottom: 0.5em;\n",
       "  /* unfitted */\n",
       "  background-color: var(--sklearn-color-unfitted-level-0);\n",
       "}\n",
       "\n",
       "#sk-container-id-2 div.sk-estimator.fitted {\n",
       "  /* fitted */\n",
       "  background-color: var(--sklearn-color-fitted-level-0);\n",
       "}\n",
       "\n",
       "/* on hover */\n",
       "#sk-container-id-2 div.sk-estimator:hover {\n",
       "  /* unfitted */\n",
       "  background-color: var(--sklearn-color-unfitted-level-2);\n",
       "}\n",
       "\n",
       "#sk-container-id-2 div.sk-estimator.fitted:hover {\n",
       "  /* fitted */\n",
       "  background-color: var(--sklearn-color-fitted-level-2);\n",
       "}\n",
       "\n",
       "/* Specification for estimator info (e.g. \"i\" and \"?\") */\n",
       "\n",
       "/* Common style for \"i\" and \"?\" */\n",
       "\n",
       ".sk-estimator-doc-link,\n",
       "a:link.sk-estimator-doc-link,\n",
       "a:visited.sk-estimator-doc-link {\n",
       "  float: right;\n",
       "  font-size: smaller;\n",
       "  line-height: 1em;\n",
       "  font-family: monospace;\n",
       "  background-color: var(--sklearn-color-background);\n",
       "  border-radius: 1em;\n",
       "  height: 1em;\n",
       "  width: 1em;\n",
       "  text-decoration: none !important;\n",
       "  margin-left: 1ex;\n",
       "  /* unfitted */\n",
       "  border: var(--sklearn-color-unfitted-level-1) 1pt solid;\n",
       "  color: var(--sklearn-color-unfitted-level-1);\n",
       "}\n",
       "\n",
       ".sk-estimator-doc-link.fitted,\n",
       "a:link.sk-estimator-doc-link.fitted,\n",
       "a:visited.sk-estimator-doc-link.fitted {\n",
       "  /* fitted */\n",
       "  border: var(--sklearn-color-fitted-level-1) 1pt solid;\n",
       "  color: var(--sklearn-color-fitted-level-1);\n",
       "}\n",
       "\n",
       "/* On hover */\n",
       "div.sk-estimator:hover .sk-estimator-doc-link:hover,\n",
       ".sk-estimator-doc-link:hover,\n",
       "div.sk-label-container:hover .sk-estimator-doc-link:hover,\n",
       ".sk-estimator-doc-link:hover {\n",
       "  /* unfitted */\n",
       "  background-color: var(--sklearn-color-unfitted-level-3);\n",
       "  color: var(--sklearn-color-background);\n",
       "  text-decoration: none;\n",
       "}\n",
       "\n",
       "div.sk-estimator.fitted:hover .sk-estimator-doc-link.fitted:hover,\n",
       ".sk-estimator-doc-link.fitted:hover,\n",
       "div.sk-label-container:hover .sk-estimator-doc-link.fitted:hover,\n",
       ".sk-estimator-doc-link.fitted:hover {\n",
       "  /* fitted */\n",
       "  background-color: var(--sklearn-color-fitted-level-3);\n",
       "  color: var(--sklearn-color-background);\n",
       "  text-decoration: none;\n",
       "}\n",
       "\n",
       "/* Span, style for the box shown on hovering the info icon */\n",
       ".sk-estimator-doc-link span {\n",
       "  display: none;\n",
       "  z-index: 9999;\n",
       "  position: relative;\n",
       "  font-weight: normal;\n",
       "  right: .2ex;\n",
       "  padding: .5ex;\n",
       "  margin: .5ex;\n",
       "  width: min-content;\n",
       "  min-width: 20ex;\n",
       "  max-width: 50ex;\n",
       "  color: var(--sklearn-color-text);\n",
       "  box-shadow: 2pt 2pt 4pt #999;\n",
       "  /* unfitted */\n",
       "  background: var(--sklearn-color-unfitted-level-0);\n",
       "  border: .5pt solid var(--sklearn-color-unfitted-level-3);\n",
       "}\n",
       "\n",
       ".sk-estimator-doc-link.fitted span {\n",
       "  /* fitted */\n",
       "  background: var(--sklearn-color-fitted-level-0);\n",
       "  border: var(--sklearn-color-fitted-level-3);\n",
       "}\n",
       "\n",
       ".sk-estimator-doc-link:hover span {\n",
       "  display: block;\n",
       "}\n",
       "\n",
       "/* \"?\"-specific style due to the `<a>` HTML tag */\n",
       "\n",
       "#sk-container-id-2 a.estimator_doc_link {\n",
       "  float: right;\n",
       "  font-size: 1rem;\n",
       "  line-height: 1em;\n",
       "  font-family: monospace;\n",
       "  background-color: var(--sklearn-color-background);\n",
       "  border-radius: 1rem;\n",
       "  height: 1rem;\n",
       "  width: 1rem;\n",
       "  text-decoration: none;\n",
       "  /* unfitted */\n",
       "  color: var(--sklearn-color-unfitted-level-1);\n",
       "  border: var(--sklearn-color-unfitted-level-1) 1pt solid;\n",
       "}\n",
       "\n",
       "#sk-container-id-2 a.estimator_doc_link.fitted {\n",
       "  /* fitted */\n",
       "  border: var(--sklearn-color-fitted-level-1) 1pt solid;\n",
       "  color: var(--sklearn-color-fitted-level-1);\n",
       "}\n",
       "\n",
       "/* On hover */\n",
       "#sk-container-id-2 a.estimator_doc_link:hover {\n",
       "  /* unfitted */\n",
       "  background-color: var(--sklearn-color-unfitted-level-3);\n",
       "  color: var(--sklearn-color-background);\n",
       "  text-decoration: none;\n",
       "}\n",
       "\n",
       "#sk-container-id-2 a.estimator_doc_link.fitted:hover {\n",
       "  /* fitted */\n",
       "  background-color: var(--sklearn-color-fitted-level-3);\n",
       "}\n",
       "</style><div id=\"sk-container-id-2\" class=\"sk-top-container\"><div class=\"sk-text-repr-fallback\"><pre>RandomForestClassifier(n_estimators=150)</pre><b>In a Jupyter environment, please rerun this cell to show the HTML representation or trust the notebook. <br />On GitHub, the HTML representation is unable to render, please try loading this page with nbviewer.org.</b></div><div class=\"sk-container\" hidden><div class=\"sk-item\"><div class=\"sk-estimator fitted sk-toggleable\"><input class=\"sk-toggleable__control sk-hidden--visually\" id=\"sk-estimator-id-4\" type=\"checkbox\" checked><label for=\"sk-estimator-id-4\" class=\"sk-toggleable__label fitted sk-toggleable__label-arrow fitted\">&nbsp;&nbsp;RandomForestClassifier<a class=\"sk-estimator-doc-link fitted\" rel=\"noreferrer\" target=\"_blank\" href=\"https://scikit-learn.org/1.5/modules/generated/sklearn.ensemble.RandomForestClassifier.html\">?<span>Documentation for RandomForestClassifier</span></a><span class=\"sk-estimator-doc-link fitted\">i<span>Fitted</span></span></label><div class=\"sk-toggleable__content fitted\"><pre>RandomForestClassifier(n_estimators=150)</pre></div> </div></div></div></div>"
      ],
      "text/plain": [
       "RandomForestClassifier(n_estimators=150)"
      ]
     },
     "execution_count": 55,
     "metadata": {},
     "output_type": "execute_result"
    }
   ],
   "source": [
    "model.fit(X_train, y_train)"
   ]
  },
  {
   "cell_type": "code",
   "execution_count": 56,
   "id": "65869d26",
   "metadata": {
    "execution": {
     "iopub.execute_input": "2025-03-30T11:28:04.235982Z",
     "iopub.status.busy": "2025-03-30T11:28:04.235611Z",
     "iopub.status.idle": "2025-03-30T11:28:04.262242Z",
     "shell.execute_reply": "2025-03-30T11:28:04.261002Z"
    },
    "papermill": {
     "duration": 0.043467,
     "end_time": "2025-03-30T11:28:04.264128",
     "exception": false,
     "start_time": "2025-03-30T11:28:04.220661",
     "status": "completed"
    },
    "tags": []
   },
   "outputs": [
    {
     "name": "stdout",
     "output_type": "stream",
     "text": [
      "Accuracy: 97.1%\n"
     ]
    }
   ],
   "source": [
    "from sklearn.metrics import accuracy_score\n",
    "\n",
    "predicted = model.predict(X_test)\n",
    "print(f'Accuracy: {accuracy_score(y_test, predicted):.1%}')"
   ]
  },
  {
   "cell_type": "markdown",
   "id": "7f94c79f",
   "metadata": {
    "papermill": {
     "duration": 0.013142,
     "end_time": "2025-03-30T11:28:04.290881",
     "exception": false,
     "start_time": "2025-03-30T11:28:04.277739",
     "status": "completed"
    },
    "tags": []
   },
   "source": [
    "## Finally: ***Checking the final result***"
   ]
  },
  {
   "cell_type": "code",
   "execution_count": 57,
   "id": "d33bca93",
   "metadata": {
    "execution": {
     "iopub.execute_input": "2025-03-30T11:28:04.319700Z",
     "iopub.status.busy": "2025-03-30T11:28:04.319356Z",
     "iopub.status.idle": "2025-03-30T11:28:04.325508Z",
     "shell.execute_reply": "2025-03-30T11:28:04.324471Z"
    },
    "papermill": {
     "duration": 0.022664,
     "end_time": "2025-03-30T11:28:04.327191",
     "exception": false,
     "start_time": "2025-03-30T11:28:04.304527",
     "status": "completed"
    },
    "tags": []
   },
   "outputs": [
    {
     "data": {
      "text/plain": [
       "{1: 'Normal_Weight',\n",
       " 2: 'Overweight_Level_I',\n",
       " 3: 'Overweight_Level_II',\n",
       " 4: 'Obesity_Type_I',\n",
       " 0: 'Insufficient_Weight',\n",
       " 5: 'Obesity_Type_II',\n",
       " 6: 'Obesity_Type_III'}"
      ]
     },
     "execution_count": 57,
     "metadata": {},
     "output_type": "execute_result"
    }
   ],
   "source": [
    "reverse_mapping = {v:k for k, v in new_target.items()}\n",
    "reverse_mapping"
   ]
  },
  {
   "cell_type": "code",
   "execution_count": 58,
   "id": "37239f0d",
   "metadata": {
    "execution": {
     "iopub.execute_input": "2025-03-30T11:28:04.355661Z",
     "iopub.status.busy": "2025-03-30T11:28:04.355281Z",
     "iopub.status.idle": "2025-03-30T11:28:04.360953Z",
     "shell.execute_reply": "2025-03-30T11:28:04.359988Z"
    },
    "papermill": {
     "duration": 0.021763,
     "end_time": "2025-03-30T11:28:04.362641",
     "exception": false,
     "start_time": "2025-03-30T11:28:04.340878",
     "status": "completed"
    },
    "tags": []
   },
   "outputs": [],
   "source": [
    "predictions = pd.Series(predicted)\n",
    "predictions = predictions.map(reverse_mapping)"
   ]
  },
  {
   "cell_type": "code",
   "execution_count": 59,
   "id": "bc693c4c",
   "metadata": {
    "execution": {
     "iopub.execute_input": "2025-03-30T11:28:04.390746Z",
     "iopub.status.busy": "2025-03-30T11:28:04.390398Z",
     "iopub.status.idle": "2025-03-30T11:28:04.397989Z",
     "shell.execute_reply": "2025-03-30T11:28:04.396996Z"
    },
    "papermill": {
     "duration": 0.023638,
     "end_time": "2025-03-30T11:28:04.399664",
     "exception": false,
     "start_time": "2025-03-30T11:28:04.376026",
     "status": "completed"
    },
    "tags": []
   },
   "outputs": [
    {
     "data": {
      "text/plain": [
       "0      Overweight_Level_II\n",
       "1           Obesity_Type_I\n",
       "2         Obesity_Type_III\n",
       "3          Obesity_Type_II\n",
       "4      Insufficient_Weight\n",
       "              ...         \n",
       "413          Normal_Weight\n",
       "414    Insufficient_Weight\n",
       "415         Obesity_Type_I\n",
       "416    Overweight_Level_II\n",
       "417     Overweight_Level_I\n",
       "Length: 418, dtype: object"
      ]
     },
     "execution_count": 59,
     "metadata": {},
     "output_type": "execute_result"
    }
   ],
   "source": [
    "predictions"
   ]
  },
  {
   "cell_type": "code",
   "execution_count": 60,
   "id": "c7075443",
   "metadata": {
    "execution": {
     "iopub.execute_input": "2025-03-30T11:28:04.428300Z",
     "iopub.status.busy": "2025-03-30T11:28:04.427857Z",
     "iopub.status.idle": "2025-03-30T11:28:04.433361Z",
     "shell.execute_reply": "2025-03-30T11:28:04.432255Z"
    },
    "papermill": {
     "duration": 0.021948,
     "end_time": "2025-03-30T11:28:04.435362",
     "exception": false,
     "start_time": "2025-03-30T11:28:04.413414",
     "status": "completed"
    },
    "tags": []
   },
   "outputs": [],
   "source": [
    "y_test = pd.Series(y_test)\n",
    "y_test = y_test.map(reverse_mapping)"
   ]
  },
  {
   "cell_type": "code",
   "execution_count": 61,
   "id": "ea353326",
   "metadata": {
    "execution": {
     "iopub.execute_input": "2025-03-30T11:28:04.464854Z",
     "iopub.status.busy": "2025-03-30T11:28:04.464496Z",
     "iopub.status.idle": "2025-03-30T11:28:04.475147Z",
     "shell.execute_reply": "2025-03-30T11:28:04.474170Z"
    },
    "papermill": {
     "duration": 0.027174,
     "end_time": "2025-03-30T11:28:04.476747",
     "exception": false,
     "start_time": "2025-03-30T11:28:04.449573",
     "status": "completed"
    },
    "tags": []
   },
   "outputs": [
    {
     "data": {
      "application/vnd.microsoft.datawrangler.viewer.v0+json": {
       "columns": [
        {
         "name": "index",
         "rawType": "int64",
         "type": "integer"
        },
        {
         "name": "Actual",
         "rawType": "object",
         "type": "string"
        },
        {
         "name": "Predicted",
         "rawType": "object",
         "type": "string"
        }
       ],
       "conversionMethod": "pd.DataFrame",
       "ref": "1580cb1e-52a8-4135-bf02-fc68150b7bb5",
       "rows": [
        [
         "0",
         "Overweight_Level_II",
         "Overweight_Level_II"
        ],
        [
         "1",
         "Obesity_Type_I",
         "Obesity_Type_I"
        ],
        [
         "2",
         "Obesity_Type_III",
         "Obesity_Type_III"
        ],
        [
         "3",
         "Obesity_Type_II",
         "Obesity_Type_II"
        ],
        [
         "4",
         "Insufficient_Weight",
         "Insufficient_Weight"
        ],
        [
         "5",
         "Normal_Weight",
         "Normal_Weight"
        ],
        [
         "6",
         "Overweight_Level_I",
         "Overweight_Level_I"
        ],
        [
         "7",
         "Insufficient_Weight",
         "Insufficient_Weight"
        ],
        [
         "8",
         "Obesity_Type_II",
         "Obesity_Type_II"
        ],
        [
         "9",
         "Overweight_Level_II",
         "Overweight_Level_II"
        ],
        [
         "10",
         "Obesity_Type_III",
         "Obesity_Type_III"
        ],
        [
         "11",
         "Obesity_Type_I",
         "Obesity_Type_I"
        ],
        [
         "12",
         "Normal_Weight",
         "Normal_Weight"
        ],
        [
         "13",
         "Obesity_Type_III",
         "Obesity_Type_III"
        ],
        [
         "14",
         "Obesity_Type_II",
         "Obesity_Type_II"
        ],
        [
         "15",
         "Obesity_Type_I",
         "Obesity_Type_I"
        ],
        [
         "16",
         "Normal_Weight",
         "Normal_Weight"
        ],
        [
         "17",
         "Obesity_Type_I",
         "Obesity_Type_I"
        ],
        [
         "18",
         "Obesity_Type_I",
         "Obesity_Type_I"
        ],
        [
         "19",
         "Obesity_Type_II",
         "Obesity_Type_II"
        ],
        [
         "20",
         "Overweight_Level_I",
         "Overweight_Level_I"
        ],
        [
         "21",
         "Obesity_Type_II",
         "Obesity_Type_II"
        ],
        [
         "22",
         "Overweight_Level_I",
         "Overweight_Level_I"
        ],
        [
         "23",
         "Obesity_Type_I",
         "Obesity_Type_I"
        ],
        [
         "24",
         "Obesity_Type_I",
         "Obesity_Type_I"
        ],
        [
         "25",
         "Obesity_Type_I",
         "Obesity_Type_I"
        ],
        [
         "26",
         "Insufficient_Weight",
         "Insufficient_Weight"
        ],
        [
         "27",
         "Obesity_Type_III",
         "Obesity_Type_III"
        ],
        [
         "28",
         "Overweight_Level_I",
         "Overweight_Level_I"
        ],
        [
         "29",
         "Overweight_Level_I",
         "Overweight_Level_I"
        ],
        [
         "30",
         "Insufficient_Weight",
         "Insufficient_Weight"
        ],
        [
         "31",
         "Obesity_Type_II",
         "Obesity_Type_II"
        ],
        [
         "32",
         "Overweight_Level_II",
         "Overweight_Level_II"
        ],
        [
         "33",
         "Obesity_Type_I",
         "Obesity_Type_I"
        ],
        [
         "34",
         "Insufficient_Weight",
         "Insufficient_Weight"
        ],
        [
         "35",
         "Normal_Weight",
         "Insufficient_Weight"
        ],
        [
         "36",
         "Obesity_Type_III",
         "Obesity_Type_III"
        ],
        [
         "37",
         "Obesity_Type_III",
         "Obesity_Type_III"
        ],
        [
         "38",
         "Obesity_Type_II",
         "Obesity_Type_II"
        ],
        [
         "39",
         "Overweight_Level_II",
         "Overweight_Level_II"
        ],
        [
         "40",
         "Obesity_Type_II",
         "Obesity_Type_II"
        ],
        [
         "41",
         "Overweight_Level_I",
         "Overweight_Level_I"
        ],
        [
         "42",
         "Obesity_Type_II",
         "Obesity_Type_II"
        ],
        [
         "43",
         "Obesity_Type_III",
         "Obesity_Type_III"
        ],
        [
         "44",
         "Insufficient_Weight",
         "Insufficient_Weight"
        ],
        [
         "45",
         "Obesity_Type_II",
         "Obesity_Type_II"
        ],
        [
         "46",
         "Obesity_Type_I",
         "Obesity_Type_I"
        ],
        [
         "47",
         "Overweight_Level_II",
         "Overweight_Level_II"
        ],
        [
         "48",
         "Obesity_Type_II",
         "Obesity_Type_II"
        ],
        [
         "49",
         "Obesity_Type_I",
         "Obesity_Type_I"
        ]
       ],
       "shape": {
        "columns": 2,
        "rows": 418
       }
      },
      "text/html": [
       "<div>\n",
       "<style scoped>\n",
       "    .dataframe tbody tr th:only-of-type {\n",
       "        vertical-align: middle;\n",
       "    }\n",
       "\n",
       "    .dataframe tbody tr th {\n",
       "        vertical-align: top;\n",
       "    }\n",
       "\n",
       "    .dataframe thead th {\n",
       "        text-align: right;\n",
       "    }\n",
       "</style>\n",
       "<table border=\"1\" class=\"dataframe\">\n",
       "  <thead>\n",
       "    <tr style=\"text-align: right;\">\n",
       "      <th></th>\n",
       "      <th>Actual</th>\n",
       "      <th>Predicted</th>\n",
       "    </tr>\n",
       "  </thead>\n",
       "  <tbody>\n",
       "    <tr>\n",
       "      <th>0</th>\n",
       "      <td>Overweight_Level_II</td>\n",
       "      <td>Overweight_Level_II</td>\n",
       "    </tr>\n",
       "    <tr>\n",
       "      <th>1</th>\n",
       "      <td>Obesity_Type_I</td>\n",
       "      <td>Obesity_Type_I</td>\n",
       "    </tr>\n",
       "    <tr>\n",
       "      <th>2</th>\n",
       "      <td>Obesity_Type_III</td>\n",
       "      <td>Obesity_Type_III</td>\n",
       "    </tr>\n",
       "    <tr>\n",
       "      <th>3</th>\n",
       "      <td>Obesity_Type_II</td>\n",
       "      <td>Obesity_Type_II</td>\n",
       "    </tr>\n",
       "    <tr>\n",
       "      <th>4</th>\n",
       "      <td>Insufficient_Weight</td>\n",
       "      <td>Insufficient_Weight</td>\n",
       "    </tr>\n",
       "    <tr>\n",
       "      <th>...</th>\n",
       "      <td>...</td>\n",
       "      <td>...</td>\n",
       "    </tr>\n",
       "    <tr>\n",
       "      <th>413</th>\n",
       "      <td>Normal_Weight</td>\n",
       "      <td>Normal_Weight</td>\n",
       "    </tr>\n",
       "    <tr>\n",
       "      <th>414</th>\n",
       "      <td>Normal_Weight</td>\n",
       "      <td>Insufficient_Weight</td>\n",
       "    </tr>\n",
       "    <tr>\n",
       "      <th>415</th>\n",
       "      <td>Obesity_Type_I</td>\n",
       "      <td>Obesity_Type_I</td>\n",
       "    </tr>\n",
       "    <tr>\n",
       "      <th>416</th>\n",
       "      <td>Overweight_Level_II</td>\n",
       "      <td>Overweight_Level_II</td>\n",
       "    </tr>\n",
       "    <tr>\n",
       "      <th>417</th>\n",
       "      <td>Overweight_Level_I</td>\n",
       "      <td>Overweight_Level_I</td>\n",
       "    </tr>\n",
       "  </tbody>\n",
       "</table>\n",
       "<p>418 rows × 2 columns</p>\n",
       "</div>"
      ],
      "text/plain": [
       "                  Actual            Predicted\n",
       "0    Overweight_Level_II  Overweight_Level_II\n",
       "1         Obesity_Type_I       Obesity_Type_I\n",
       "2       Obesity_Type_III     Obesity_Type_III\n",
       "3        Obesity_Type_II      Obesity_Type_II\n",
       "4    Insufficient_Weight  Insufficient_Weight\n",
       "..                   ...                  ...\n",
       "413        Normal_Weight        Normal_Weight\n",
       "414        Normal_Weight  Insufficient_Weight\n",
       "415       Obesity_Type_I       Obesity_Type_I\n",
       "416  Overweight_Level_II  Overweight_Level_II\n",
       "417   Overweight_Level_I   Overweight_Level_I\n",
       "\n",
       "[418 rows x 2 columns]"
      ]
     },
     "execution_count": 61,
     "metadata": {},
     "output_type": "execute_result"
    }
   ],
   "source": [
    "result = pd.DataFrame({'Actual' : np.array(y_test), 'Predicted' : np.array(predictions)})\n",
    "result"
   ]
  },
  {
   "cell_type": "code",
   "execution_count": 62,
   "id": "8bfac481",
   "metadata": {
    "execution": {
     "iopub.execute_input": "2025-03-30T11:28:04.505892Z",
     "iopub.status.busy": "2025-03-30T11:28:04.505503Z",
     "iopub.status.idle": "2025-03-30T11:28:04.516290Z",
     "shell.execute_reply": "2025-03-30T11:28:04.515240Z"
    },
    "papermill": {
     "duration": 0.026889,
     "end_time": "2025-03-30T11:28:04.517873",
     "exception": false,
     "start_time": "2025-03-30T11:28:04.490984",
     "status": "completed"
    },
    "tags": []
   },
   "outputs": [
    {
     "data": {
      "application/vnd.microsoft.datawrangler.viewer.v0+json": {
       "columns": [
        {
         "name": "index",
         "rawType": "int64",
         "type": "integer"
        },
        {
         "name": "Actual",
         "rawType": "object",
         "type": "string"
        },
        {
         "name": "Predicted",
         "rawType": "object",
         "type": "string"
        }
       ],
       "conversionMethod": "pd.DataFrame",
       "ref": "9d31aae3-6e7e-4826-97fc-6163d7172111",
       "rows": [
        [
         "0",
         "Overweight_Level_II",
         "Overweight_Level_II"
        ],
        [
         "1",
         "Obesity_Type_I",
         "Obesity_Type_I"
        ],
        [
         "2",
         "Obesity_Type_III",
         "Obesity_Type_III"
        ],
        [
         "3",
         "Obesity_Type_II",
         "Obesity_Type_II"
        ],
        [
         "4",
         "Insufficient_Weight",
         "Insufficient_Weight"
        ],
        [
         "5",
         "Normal_Weight",
         "Normal_Weight"
        ],
        [
         "6",
         "Overweight_Level_I",
         "Overweight_Level_I"
        ],
        [
         "35",
         "Normal_Weight",
         "Insufficient_Weight"
        ],
        [
         "85",
         "Normal_Weight",
         "Overweight_Level_I"
        ],
        [
         "159",
         "Insufficient_Weight",
         "Normal_Weight"
        ],
        [
         "339",
         "Obesity_Type_I",
         "Overweight_Level_II"
        ],
        [
         "354",
         "Overweight_Level_I",
         "Normal_Weight"
        ],
        [
         "390",
         "Overweight_Level_II",
         "Obesity_Type_I"
        ],
        [
         "392",
         "Overweight_Level_I",
         "Overweight_Level_II"
        ]
       ],
       "shape": {
        "columns": 2,
        "rows": 14
       }
      },
      "text/html": [
       "<div>\n",
       "<style scoped>\n",
       "    .dataframe tbody tr th:only-of-type {\n",
       "        vertical-align: middle;\n",
       "    }\n",
       "\n",
       "    .dataframe tbody tr th {\n",
       "        vertical-align: top;\n",
       "    }\n",
       "\n",
       "    .dataframe thead th {\n",
       "        text-align: right;\n",
       "    }\n",
       "</style>\n",
       "<table border=\"1\" class=\"dataframe\">\n",
       "  <thead>\n",
       "    <tr style=\"text-align: right;\">\n",
       "      <th></th>\n",
       "      <th>Actual</th>\n",
       "      <th>Predicted</th>\n",
       "    </tr>\n",
       "  </thead>\n",
       "  <tbody>\n",
       "    <tr>\n",
       "      <th>0</th>\n",
       "      <td>Overweight_Level_II</td>\n",
       "      <td>Overweight_Level_II</td>\n",
       "    </tr>\n",
       "    <tr>\n",
       "      <th>1</th>\n",
       "      <td>Obesity_Type_I</td>\n",
       "      <td>Obesity_Type_I</td>\n",
       "    </tr>\n",
       "    <tr>\n",
       "      <th>2</th>\n",
       "      <td>Obesity_Type_III</td>\n",
       "      <td>Obesity_Type_III</td>\n",
       "    </tr>\n",
       "    <tr>\n",
       "      <th>3</th>\n",
       "      <td>Obesity_Type_II</td>\n",
       "      <td>Obesity_Type_II</td>\n",
       "    </tr>\n",
       "    <tr>\n",
       "      <th>4</th>\n",
       "      <td>Insufficient_Weight</td>\n",
       "      <td>Insufficient_Weight</td>\n",
       "    </tr>\n",
       "    <tr>\n",
       "      <th>5</th>\n",
       "      <td>Normal_Weight</td>\n",
       "      <td>Normal_Weight</td>\n",
       "    </tr>\n",
       "    <tr>\n",
       "      <th>6</th>\n",
       "      <td>Overweight_Level_I</td>\n",
       "      <td>Overweight_Level_I</td>\n",
       "    </tr>\n",
       "    <tr>\n",
       "      <th>35</th>\n",
       "      <td>Normal_Weight</td>\n",
       "      <td>Insufficient_Weight</td>\n",
       "    </tr>\n",
       "    <tr>\n",
       "      <th>85</th>\n",
       "      <td>Normal_Weight</td>\n",
       "      <td>Overweight_Level_I</td>\n",
       "    </tr>\n",
       "    <tr>\n",
       "      <th>159</th>\n",
       "      <td>Insufficient_Weight</td>\n",
       "      <td>Normal_Weight</td>\n",
       "    </tr>\n",
       "    <tr>\n",
       "      <th>339</th>\n",
       "      <td>Obesity_Type_I</td>\n",
       "      <td>Overweight_Level_II</td>\n",
       "    </tr>\n",
       "    <tr>\n",
       "      <th>354</th>\n",
       "      <td>Overweight_Level_I</td>\n",
       "      <td>Normal_Weight</td>\n",
       "    </tr>\n",
       "    <tr>\n",
       "      <th>390</th>\n",
       "      <td>Overweight_Level_II</td>\n",
       "      <td>Obesity_Type_I</td>\n",
       "    </tr>\n",
       "    <tr>\n",
       "      <th>392</th>\n",
       "      <td>Overweight_Level_I</td>\n",
       "      <td>Overweight_Level_II</td>\n",
       "    </tr>\n",
       "  </tbody>\n",
       "</table>\n",
       "</div>"
      ],
      "text/plain": [
       "                  Actual            Predicted\n",
       "0    Overweight_Level_II  Overweight_Level_II\n",
       "1         Obesity_Type_I       Obesity_Type_I\n",
       "2       Obesity_Type_III     Obesity_Type_III\n",
       "3        Obesity_Type_II      Obesity_Type_II\n",
       "4    Insufficient_Weight  Insufficient_Weight\n",
       "5          Normal_Weight        Normal_Weight\n",
       "6     Overweight_Level_I   Overweight_Level_I\n",
       "35         Normal_Weight  Insufficient_Weight\n",
       "85         Normal_Weight   Overweight_Level_I\n",
       "159  Insufficient_Weight        Normal_Weight\n",
       "339       Obesity_Type_I  Overweight_Level_II\n",
       "354   Overweight_Level_I        Normal_Weight\n",
       "390  Overweight_Level_II       Obesity_Type_I\n",
       "392   Overweight_Level_I  Overweight_Level_II"
      ]
     },
     "execution_count": 62,
     "metadata": {},
     "output_type": "execute_result"
    }
   ],
   "source": [
    "result[~result.duplicated()]"
   ]
  },
  {
   "cell_type": "code",
   "execution_count": 67,
   "id": "036208bd",
   "metadata": {},
   "outputs": [
    {
     "data": {
      "application/vnd.microsoft.datawrangler.viewer.v0+json": {
       "columns": [
        {
         "name": "index",
         "rawType": "int64",
         "type": "integer"
        },
        {
         "name": "Age",
         "rawType": "float64",
         "type": "float"
        },
        {
         "name": "Height",
         "rawType": "float64",
         "type": "float"
        },
        {
         "name": "Weight",
         "rawType": "float64",
         "type": "float"
        },
        {
         "name": "FCVC",
         "rawType": "float64",
         "type": "float"
        }
       ],
       "conversionMethod": "pd.DataFrame",
       "ref": "d3ee1515-9dcf-4b58-9305-92bef6b47b5d",
       "rows": [
        [
         "60",
         "21.0",
         "1.55",
         "49.0",
         "2.0"
        ],
        [
         "233",
         "34.0",
         "1.68",
         "77.0",
         "3.0"
        ],
        [
         "63",
         "22.0",
         "1.68",
         "55.0",
         "2.0"
        ],
        [
         "1632",
         "28.992809",
         "1.909105",
         "129.874864",
         "2.206119"
        ],
        [
         "58",
         "17.0",
         "1.65",
         "67.0",
         "3.0"
        ]
       ],
       "shape": {
        "columns": 4,
        "rows": 5
       }
      },
      "text/html": [
       "<div>\n",
       "<style scoped>\n",
       "    .dataframe tbody tr th:only-of-type {\n",
       "        vertical-align: middle;\n",
       "    }\n",
       "\n",
       "    .dataframe tbody tr th {\n",
       "        vertical-align: top;\n",
       "    }\n",
       "\n",
       "    .dataframe thead th {\n",
       "        text-align: right;\n",
       "    }\n",
       "</style>\n",
       "<table border=\"1\" class=\"dataframe\">\n",
       "  <thead>\n",
       "    <tr style=\"text-align: right;\">\n",
       "      <th></th>\n",
       "      <th>Age</th>\n",
       "      <th>Height</th>\n",
       "      <th>Weight</th>\n",
       "      <th>FCVC</th>\n",
       "    </tr>\n",
       "  </thead>\n",
       "  <tbody>\n",
       "    <tr>\n",
       "      <th>60</th>\n",
       "      <td>21.000000</td>\n",
       "      <td>1.550000</td>\n",
       "      <td>49.000000</td>\n",
       "      <td>2.000000</td>\n",
       "    </tr>\n",
       "    <tr>\n",
       "      <th>233</th>\n",
       "      <td>34.000000</td>\n",
       "      <td>1.680000</td>\n",
       "      <td>77.000000</td>\n",
       "      <td>3.000000</td>\n",
       "    </tr>\n",
       "    <tr>\n",
       "      <th>63</th>\n",
       "      <td>22.000000</td>\n",
       "      <td>1.680000</td>\n",
       "      <td>55.000000</td>\n",
       "      <td>2.000000</td>\n",
       "    </tr>\n",
       "    <tr>\n",
       "      <th>1632</th>\n",
       "      <td>28.992809</td>\n",
       "      <td>1.909105</td>\n",
       "      <td>129.874864</td>\n",
       "      <td>2.206119</td>\n",
       "    </tr>\n",
       "    <tr>\n",
       "      <th>58</th>\n",
       "      <td>17.000000</td>\n",
       "      <td>1.650000</td>\n",
       "      <td>67.000000</td>\n",
       "      <td>3.000000</td>\n",
       "    </tr>\n",
       "  </tbody>\n",
       "</table>\n",
       "</div>"
      ],
      "text/plain": [
       "            Age    Height      Weight      FCVC\n",
       "60    21.000000  1.550000   49.000000  2.000000\n",
       "233   34.000000  1.680000   77.000000  3.000000\n",
       "63    22.000000  1.680000   55.000000  2.000000\n",
       "1632  28.992809  1.909105  129.874864  2.206119\n",
       "58    17.000000  1.650000   67.000000  3.000000"
      ]
     },
     "execution_count": 67,
     "metadata": {},
     "output_type": "execute_result"
    }
   ],
   "source": [
    "X_train.head()"
   ]
  },
  {
   "cell_type": "code",
   "execution_count": 66,
   "id": "97e146e9",
   "metadata": {},
   "outputs": [
    {
     "data": {
      "text/plain": [
       "['obesity_model.pkl']"
      ]
     },
     "execution_count": 66,
     "metadata": {},
     "output_type": "execute_result"
    }
   ],
   "source": [
    "import joblib\n",
    "\n",
    "joblib.dump(model, 'obesity_model.pkl')"
   ]
  },
  {
   "cell_type": "code",
   "execution_count": null,
   "id": "83ca2631",
   "metadata": {},
   "outputs": [],
   "source": []
  }
 ],
 "metadata": {
  "kaggle": {
   "accelerator": "none",
   "dataSources": [
    {
     "datasetId": 6626835,
     "sourceId": 10694561,
     "sourceType": "datasetVersion"
    }
   ],
   "dockerImageVersionId": 30918,
   "isGpuEnabled": false,
   "isInternetEnabled": true,
   "language": "python",
   "sourceType": "notebook"
  },
  "kernelspec": {
   "display_name": "Python 3",
   "language": "python",
   "name": "python3"
  },
  "language_info": {
   "codemirror_mode": {
    "name": "ipython",
    "version": 3
   },
   "file_extension": ".py",
   "mimetype": "text/x-python",
   "name": "python",
   "nbconvert_exporter": "python",
   "pygments_lexer": "ipython3",
   "version": "3.12.5"
  },
  "papermill": {
   "default_parameters": {},
   "duration": 34.13387,
   "end_time": "2025-03-30T11:28:05.352870",
   "environment_variables": {},
   "exception": null,
   "input_path": "__notebook__.ipynb",
   "output_path": "__notebook__.ipynb",
   "parameters": {},
   "start_time": "2025-03-30T11:27:31.219000",
   "version": "2.6.0"
  }
 },
 "nbformat": 4,
 "nbformat_minor": 5
}
